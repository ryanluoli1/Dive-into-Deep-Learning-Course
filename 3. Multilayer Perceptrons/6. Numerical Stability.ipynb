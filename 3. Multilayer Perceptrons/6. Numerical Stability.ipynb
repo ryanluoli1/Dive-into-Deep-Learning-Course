{
 "cells": [
  {
   "cell_type": "markdown",
   "id": "d6e793c7",
   "metadata": {},
   "source": [
    "# 6. Numerical Stability"
   ]
  },
  {
   "cell_type": "code",
   "execution_count": 1,
   "id": "74ed4a11",
   "metadata": {},
   "outputs": [],
   "source": [
    "import time\n",
    "import math\n",
    "import random\n",
    "\n",
    "import numpy as np\n",
    "import pandas as pd\n",
    "import matplotlib.pyplot as plt\n",
    "\n",
    "import torch\n",
    "import torchvision\n",
    "from torch import nn\n",
    "from torch.utils import data\n",
    "from torchvision import transforms"
   ]
  },
  {
   "cell_type": "markdown",
   "id": "315cde88",
   "metadata": {},
   "source": [
    "## Numerical Stability"
   ]
  },
  {
   "cell_type": "markdown",
   "id": "093c711f",
   "metadata": {},
   "source": [
    "Consider a deep neural network with $L$ layers, input $x$ and output $o$. \n",
    "\n",
    "Each layer $l$ is defined by a transformation $f_l$ and parameterized by weights $\\mathbf{W}^{(l)}$. The hidden variables are $\\mathbf{h}^{(l)}$ where $\\mathbf{h}^{(0)} = \\mathbf{x}$.\n",
    "\n",
    "This net can be expressed as:\n",
    "\n",
    "$$\\mathbf{o} = f_L \\circ \\ldots \\circ f_1(\\mathbf{x}) \\text{ where }\\mathbf{h}^{(l)} = f_l (\\mathbf{h}^{(l-1)})$$\n",
    "\n",
    "Then, the gradient of the output $o$ in respect to the parameter $\\mathbf{W}^{(l)}$ is given as:\n",
    "\n",
    "$$\\partial_{\\mathbf{W}^{(l)}} \\mathbf{o} = \\underbrace{\\partial_{\\mathbf{h}^{(L-1)}} \\mathbf{h}^{(L)}}_{ \\mathbf{M}^{(L)} \\stackrel{\\mathrm{def}}{=}} \\cdot \\ldots \\cdot \\underbrace{\\partial_{\\mathbf{h}^{(l)}} \\mathbf{h}^{(l+1)}}_{ \\mathbf{M}^{(l+1)} \\stackrel{\\mathrm{def}}{=}} \\underbrace{\\partial_{\\mathbf{W}^{(l)}} \\mathbf{h}^{(l)}}_{ \\mathbf{v}^{(l)} \\stackrel{\\mathrm{def}}{=}}$$\n",
    "\n",
    "which is equivalent to the product of $L-l$ matrices $\\mathbf{M}^{(L)} \\cdot \\ldots \\cdot \\mathbf{M}^{(l+1)}$ with the gradient vector $\\mathbf{v}^{(l)}$.\n",
    "\n",
    "This multiplication left us with 2 possible situations:\n",
    "\n",
    "1. **`Gradient Exploding`**: excessively **large** parameters that prevents the model from converging to stability\n",
    "2. **`Gradient Vanishing`**: exccessively **small** parameters that makes learning impossible (parameters hardly move on each update)"
   ]
  },
  {
   "cell_type": "markdown",
   "id": "7fb110f7",
   "metadata": {},
   "source": [
    "## Gradient Vanishing"
   ]
  },
  {
   "cell_type": "code",
   "execution_count": 7,
   "id": "e71f82bc",
   "metadata": {},
   "outputs": [
    {
     "data": {
      "image/png": "[encoded data removed]",
      "text/plain": [
       "<Figure size 500x300 with 1 Axes>"
      ]
     },
     "metadata": {},
     "output_type": "display_data"
    }
   ],
   "source": [
    "x = torch.arange(-8.0, 8.0, 0.1, requires_grad=True)\n",
    "y = torch.sigmoid(x)\n",
    "y.backward(torch.ones_like(x))\n",
    "\n",
    "plt.figure(figsize=(5,3))\n",
    "plt.plot(x.detach(), y.detach())\n",
    "plt.plot(x.detach(), x.grad.numpy())\n",
    "plt.legend(['sigmoid', 'gradient'])\n",
    "plt.show()"
   ]
  },
  {
   "cell_type": "markdown",
   "id": "46d93171",
   "metadata": {},
   "source": [
    "As you can see, the gradient of the **sigmoid** function vanishes when the input is very small or very large."
   ]
  },
  {
   "cell_type": "markdown",
   "id": "629fd797",
   "metadata": {},
   "source": [
    "## Gradient Exploding"
   ]
  },
  {
   "cell_type": "code",
   "execution_count": 9,
   "id": "259a29e1",
   "metadata": {},
   "outputs": [
    {
     "data": {
      "text/plain": [
       "tensor([[ 2.0882e+26, -4.6634e+26, -2.7460e+25, -7.5288e+25],\n",
       "        [ 9.3439e+25, -2.0867e+26, -1.2287e+25, -3.3688e+25],\n",
       "        [-5.8254e+25,  1.3009e+26,  7.6602e+24,  2.1002e+25],\n",
       "        [-1.0363e+26,  2.3143e+26,  1.3627e+25,  3.7362e+25]])"
      ]
     },
     "execution_count": 9,
     "metadata": {},
     "output_type": "execute_result"
    }
   ],
   "source": [
    "M = torch.normal(0, 1, size=(4,4))\n",
    "for i in range(100):\n",
    "    M = torch.mm(M, torch.normal(0, 1, size=(4,4)))\n",
    "M"
   ]
  },
  {
   "cell_type": "markdown",
   "id": "756bc38b",
   "metadata": {},
   "source": [
    "As shown above, the **initialization** of parameters sometimes leads to gradient exploding, which prevents the optimization algorithm from converging."
   ]
  },
  {
   "cell_type": "markdown",
   "id": "a79b2d2d",
   "metadata": {},
   "source": [
    "## Symmetry"
   ]
  },
  {
   "cell_type": "markdown",
   "id": "a6aca781",
   "metadata": {},
   "source": [
    "When we initialize the parameters with the **same values**, back propagation will update them with the **same step and direction**. Therefore, the parameters will always be the same instead of converging towards the optimal values.\n",
    "\n",
    "We can prevent this by using **dropout regularization**."
   ]
  },
  {
   "cell_type": "markdown",
   "id": "38681c9f",
   "metadata": {},
   "source": [
    "## Parameter Initialization"
   ]
  },
  {
   "cell_type": "markdown",
   "id": "2f1156a9",
   "metadata": {},
   "source": [
    "The **`Xavier initialization`** is given as:\n",
    "\n",
    "$$U\\left(-\\sqrt{\\frac{6}{n_\\mathrm{in} + n_\\mathrm{out}}}, \\sqrt{\\frac{6}{n_\\mathrm{in} + n_\\mathrm{out}}}\\right)$$\n",
    "\n",
    "where $n_\\mathrm{in}$ and $n_\\mathrm{out}$ are the numbers of inputs and outputs.\n",
    "\n",
    "This initialization satisfies the following:\n",
    "\n",
    "$$\n",
    "\\begin{aligned}\n",
    "\\frac{1}{2} (n_\\mathrm{in} + n_\\mathrm{out}) \\sigma^2 = 1 \\text{ or }\n",
    "\\sigma = \\sqrt{\\frac{2}{n_\\mathrm{in} + n_\\mathrm{out}}}\n",
    "\\end{aligned}\n",
    "$$"
   ]
  }
 ],
 "metadata": {
  "kernelspec": {
   "display_name": "Python 3 (ipykernel)",
   "language": "python",
   "name": "python3"
  },
  "language_info": {
   "codemirror_mode": {
    "name": "ipython",
    "version": 3
   },
   "file_extension": ".py",
   "mimetype": "text/x-python",
   "name": "python",
   "nbconvert_exporter": "python",
   "pygments_lexer": "ipython3",
   "version": "3.9.13"
  }
 },
 "nbformat": 4,
 "nbformat_minor": 5
}
