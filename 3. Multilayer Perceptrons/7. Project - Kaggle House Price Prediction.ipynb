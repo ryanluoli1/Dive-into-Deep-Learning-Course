{
 "cells": [
  {
   "cell_type": "markdown",
   "id": "0792d128",
   "metadata": {
    "papermill": {
     "duration": 0.007554,
     "end_time": "2022-12-30T21:13:24.126042",
     "exception": false,
     "start_time": "2022-12-30T21:13:24.118488",
     "status": "completed"
    },
    "tags": []
   },
   "source": [
    "# 7. Project - Kaggle House Price Prediction"
   ]
  },
  {
   "cell_type": "code",
   "execution_count": 1,
   "id": "8f8d2c1b",
   "metadata": {
    "execution": {
     "iopub.execute_input": "2022-12-30T21:13:24.142015Z",
     "iopub.status.busy": "2022-12-30T21:13:24.141007Z",
     "iopub.status.idle": "2022-12-30T21:13:25.928130Z",
     "shell.execute_reply": "2022-12-30T21:13:25.927014Z"
    },
    "papermill": {
     "duration": 1.798625,
     "end_time": "2022-12-30T21:13:25.931320",
     "exception": false,
     "start_time": "2022-12-30T21:13:24.132695",
     "status": "completed"
    },
    "tags": []
   },
   "outputs": [],
   "source": [
    "import os\n",
    "import time\n",
    "import math\n",
    "import random\n",
    "\n",
    "import numpy as np\n",
    "import pandas as pd\n",
    "import matplotlib.pyplot as plt\n",
    "\n",
    "import torch\n",
    "import torchvision\n",
    "from torch import nn\n",
    "from torch.utils import data\n",
    "from torchvision import transforms"
   ]
  },
  {
   "cell_type": "markdown",
   "id": "e845eef8",
   "metadata": {
    "papermill": {
     "duration": 0.005941,
     "end_time": "2022-12-30T21:13:25.943523",
     "exception": false,
     "start_time": "2022-12-30T21:13:25.937582",
     "status": "completed"
    },
    "tags": []
   },
   "source": [
    "## Import Data"
   ]
  },
  {
   "cell_type": "code",
   "execution_count": 2,
   "id": "3790f062",
   "metadata": {
    "execution": {
     "iopub.execute_input": "2022-12-30T21:13:25.958004Z",
     "iopub.status.busy": "2022-12-30T21:13:25.957022Z",
     "iopub.status.idle": "2022-12-30T21:13:26.032870Z",
     "shell.execute_reply": "2022-12-30T21:13:26.032023Z"
    },
    "papermill": {
     "duration": 0.08587,
     "end_time": "2022-12-30T21:13:26.035452",
     "exception": false,
     "start_time": "2022-12-30T21:13:25.949582",
     "status": "completed"
    },
    "tags": []
   },
   "outputs": [],
   "source": [
    "train_data = pd.read_csv('/kaggle/input/house-prices-advanced-regression-techniques/train.csv')\n",
    "test_data = pd.read_csv('/kaggle/input/house-prices-advanced-regression-techniques/test.csv')\n",
    "submission = pd.read_csv('/kaggle/input/house-prices-advanced-regression-techniques/sample_submission.csv')"
   ]
  },
  {
   "cell_type": "markdown",
   "id": "7293951f",
   "metadata": {
    "papermill": {
     "duration": 0.006009,
     "end_time": "2022-12-30T21:13:26.048247",
     "exception": false,
     "start_time": "2022-12-30T21:13:26.042238",
     "status": "completed"
    },
    "tags": []
   },
   "source": [
    "Let's first check the size of the **training** and **test** sets:"
   ]
  },
  {
   "cell_type": "code",
   "execution_count": 3,
   "id": "53a5d75d",
   "metadata": {
    "execution": {
     "iopub.execute_input": "2022-12-30T21:13:26.062649Z",
     "iopub.status.busy": "2022-12-30T21:13:26.061961Z",
     "iopub.status.idle": "2022-12-30T21:13:26.068046Z",
     "shell.execute_reply": "2022-12-30T21:13:26.066957Z"
    },
    "papermill": {
     "duration": 0.015918,
     "end_time": "2022-12-30T21:13:26.070290",
     "exception": false,
     "start_time": "2022-12-30T21:13:26.054372",
     "status": "completed"
    },
    "tags": []
   },
   "outputs": [
    {
     "name": "stdout",
     "output_type": "stream",
     "text": [
      "(1460, 81)\n",
      "(1459, 80)\n"
     ]
    }
   ],
   "source": [
    "print(train_data.shape)\n",
    "print(test_data.shape)"
   ]
  },
  {
   "cell_type": "markdown",
   "id": "933cb5a0",
   "metadata": {
    "papermill": {
     "duration": 0.007525,
     "end_time": "2022-12-30T21:13:26.084111",
     "exception": false,
     "start_time": "2022-12-30T21:13:26.076586",
     "status": "completed"
    },
    "tags": []
   },
   "source": [
    "Let's **concatinate** the two dataset for preprocessing:"
   ]
  },
  {
   "cell_type": "code",
   "execution_count": 4,
   "id": "13352a55",
   "metadata": {
    "execution": {
     "iopub.execute_input": "2022-12-30T21:13:26.098760Z",
     "iopub.status.busy": "2022-12-30T21:13:26.098103Z",
     "iopub.status.idle": "2022-12-30T21:13:26.119622Z",
     "shell.execute_reply": "2022-12-30T21:13:26.118764Z"
    },
    "papermill": {
     "duration": 0.031666,
     "end_time": "2022-12-30T21:13:26.122054",
     "exception": false,
     "start_time": "2022-12-30T21:13:26.090388",
     "status": "completed"
    },
    "tags": []
   },
   "outputs": [],
   "source": [
    "all_features = pd.concat((train_data.iloc[:, 1:-1], test_data.iloc[:, 1:]))"
   ]
  },
  {
   "cell_type": "markdown",
   "id": "db7f663e",
   "metadata": {
    "papermill": {
     "duration": 0.005981,
     "end_time": "2022-12-30T21:13:26.134371",
     "exception": false,
     "start_time": "2022-12-30T21:13:26.128390",
     "status": "completed"
    },
    "tags": []
   },
   "source": [
    "## Data Preprocess"
   ]
  },
  {
   "cell_type": "markdown",
   "id": "7dac4578",
   "metadata": {
    "papermill": {
     "duration": 0.005968,
     "end_time": "2022-12-30T21:13:26.146496",
     "exception": false,
     "start_time": "2022-12-30T21:13:26.140528",
     "status": "completed"
    },
    "tags": []
   },
   "source": [
    "We first **standardize** all the numerical features:\n",
    "\n",
    "$$x \\leftarrow \\frac{x - \\mu}{\\sigma}$$\n",
    "\n",
    "Since the standardized data will have **mean value** of 0, we can set all the **missing values** to 0."
   ]
  },
  {
   "cell_type": "code",
   "execution_count": 5,
   "id": "8fce52e1",
   "metadata": {
    "execution": {
     "iopub.execute_input": "2022-12-30T21:13:26.161248Z",
     "iopub.status.busy": "2022-12-30T21:13:26.160580Z",
     "iopub.status.idle": "2022-12-30T21:13:26.218005Z",
     "shell.execute_reply": "2022-12-30T21:13:26.216639Z"
    },
    "papermill": {
     "duration": 0.067969,
     "end_time": "2022-12-30T21:13:26.220961",
     "exception": false,
     "start_time": "2022-12-30T21:13:26.152992",
     "status": "completed"
    },
    "tags": []
   },
   "outputs": [],
   "source": [
    "#obtain all the numerical features\n",
    "numerical_features = all_features.dtypes[all_features.dtypes != 'object'].index\n",
    "#apply standardization to each feature\n",
    "all_features[numerical_features] = all_features[numerical_features].apply( lambda x: (x-x.mean()) / x.std() )\n",
    "#replace missing values with 0\n",
    "all_features[numerical_features] = all_features[numerical_features].fillna(0)"
   ]
  },
  {
   "cell_type": "markdown",
   "id": "3b0dbfea",
   "metadata": {
    "papermill": {
     "duration": 0.005894,
     "end_time": "2022-12-30T21:13:26.233519",
     "exception": false,
     "start_time": "2022-12-30T21:13:26.227625",
     "status": "completed"
    },
    "tags": []
   },
   "source": [
    "Then, we **encode** all the categorical variables with one-hot encoding.\n",
    "\n",
    "By setting:\n",
    "\n",
    "```python \n",
    "dummy_na = True\n",
    "```\n",
    "\n",
    "we consider **missing values** as a category."
   ]
  },
  {
   "cell_type": "code",
   "execution_count": 6,
   "id": "f8b19b58",
   "metadata": {
    "execution": {
     "iopub.execute_input": "2022-12-30T21:13:26.247671Z",
     "iopub.status.busy": "2022-12-30T21:13:26.247075Z",
     "iopub.status.idle": "2022-12-30T21:13:26.309036Z",
     "shell.execute_reply": "2022-12-30T21:13:26.307888Z"
    },
    "papermill": {
     "duration": 0.071757,
     "end_time": "2022-12-30T21:13:26.311305",
     "exception": false,
     "start_time": "2022-12-30T21:13:26.239548",
     "status": "completed"
    },
    "tags": []
   },
   "outputs": [
    {
     "data": {
      "text/plain": [
       "(2919, 331)"
      ]
     },
     "execution_count": 6,
     "metadata": {},
     "output_type": "execute_result"
    }
   ],
   "source": [
    "all_features = pd.get_dummies(all_features, dummy_na=True)\n",
    "all_features.shape"
   ]
  },
  {
   "cell_type": "markdown",
   "id": "cc4e64c4",
   "metadata": {
    "papermill": {
     "duration": 0.006184,
     "end_time": "2022-12-30T21:13:26.323919",
     "exception": false,
     "start_time": "2022-12-30T21:13:26.317735",
     "status": "completed"
    },
    "tags": []
   },
   "source": [
    "Finally, we just need to convert the training and test features in **tensors**:"
   ]
  },
  {
   "cell_type": "code",
   "execution_count": 7,
   "id": "8b7bcc21",
   "metadata": {
    "execution": {
     "iopub.execute_input": "2022-12-30T21:13:26.340109Z",
     "iopub.status.busy": "2022-12-30T21:13:26.339428Z",
     "iopub.status.idle": "2022-12-30T21:13:26.359347Z",
     "shell.execute_reply": "2022-12-30T21:13:26.357983Z"
    },
    "papermill": {
     "duration": 0.03139,
     "end_time": "2022-12-30T21:13:26.362676",
     "exception": false,
     "start_time": "2022-12-30T21:13:26.331286",
     "status": "completed"
    },
    "tags": []
   },
   "outputs": [],
   "source": [
    "n_train = train_data.shape[0]\n",
    "train_features = torch.tensor(all_features[:n_train].values, dtype=torch.float32)\n",
    "test_features = torch.tensor(all_features[n_train:].values, dtype=torch.float32)\n",
    "train_labels = torch.tensor(train_data.SalePrice.values.reshape(-1, 1), dtype=torch.float32)"
   ]
  },
  {
   "cell_type": "markdown",
   "id": "b00e260a",
   "metadata": {
    "papermill": {
     "duration": 0.00704,
     "end_time": "2022-12-30T21:13:26.378183",
     "exception": false,
     "start_time": "2022-12-30T21:13:26.371143",
     "status": "completed"
    },
    "tags": []
   },
   "source": [
    "## Training"
   ]
  },
  {
   "cell_type": "markdown",
   "id": "0e1a530a",
   "metadata": {
    "papermill": {
     "duration": 0.007759,
     "end_time": "2022-12-30T21:13:26.392592",
     "exception": false,
     "start_time": "2022-12-30T21:13:26.384833",
     "status": "completed"
    },
    "tags": []
   },
   "source": [
    "We will first train a **linear model** as our baseline:\n"
   ]
  },
  {
   "cell_type": "code",
   "execution_count": 8,
   "id": "12d7e568",
   "metadata": {
    "execution": {
     "iopub.execute_input": "2022-12-30T21:13:26.407777Z",
     "iopub.status.busy": "2022-12-30T21:13:26.406784Z",
     "iopub.status.idle": "2022-12-30T21:13:26.412357Z",
     "shell.execute_reply": "2022-12-30T21:13:26.411624Z"
    },
    "papermill": {
     "duration": 0.015165,
     "end_time": "2022-12-30T21:13:26.414237",
     "exception": false,
     "start_time": "2022-12-30T21:13:26.399072",
     "status": "completed"
    },
    "tags": []
   },
   "outputs": [],
   "source": [
    "loss = nn.MSELoss()\n",
    "\n",
    "n_inputs = train_features.shape[1]\n",
    "\n",
    "def get_net():\n",
    "    net = nn.Sequential(nn.Linear(n_inputs,1))\n",
    "    return net"
   ]
  },
  {
   "cell_type": "markdown",
   "id": "e554951c",
   "metadata": {
    "papermill": {
     "duration": 0.005975,
     "end_time": "2022-12-30T21:13:26.426477",
     "exception": false,
     "start_time": "2022-12-30T21:13:26.420502",
     "status": "completed"
    },
    "tags": []
   },
   "source": [
    "When predicting house prices, we are more interested in the **relative difference** $\\frac{y - \\hat{y}}{y}$ instead of the absolute difference $y - \\hat{y}$.\n",
    "\n",
    "Therefore, errors in predicting expensive and cheap house will have equivalent effects on our loss metric.\n",
    "\n",
    "To do so, we take the **logarithm**:\n",
    "\n",
    "$$\\sqrt{\\frac{1}{n}\\sum_{i=1}^n\\left(\\log y_i -\\log \\hat{y}_i\\right)^2}$$\n",
    "\n",
    "We also need to clip the predictions with a **minimum** of 1 to stablize the logarithm result."
   ]
  },
  {
   "cell_type": "code",
   "execution_count": 9,
   "id": "88c560a0",
   "metadata": {
    "execution": {
     "iopub.execute_input": "2022-12-30T21:13:26.440861Z",
     "iopub.status.busy": "2022-12-30T21:13:26.440217Z",
     "iopub.status.idle": "2022-12-30T21:13:26.445433Z",
     "shell.execute_reply": "2022-12-30T21:13:26.444614Z"
    },
    "papermill": {
     "duration": 0.014747,
     "end_time": "2022-12-30T21:13:26.447397",
     "exception": false,
     "start_time": "2022-12-30T21:13:26.432650",
     "status": "completed"
    },
    "tags": []
   },
   "outputs": [],
   "source": [
    "def log_rmse(net, features, labels):\n",
    "    clipped_preds = torch.clamp(net(features), 1, float('inf'))\n",
    "    rmse = torch.sqrt(loss(torch.log(clipped_preds), torch.log(labels)))\n",
    "    return rmse.item()"
   ]
  },
  {
   "cell_type": "code",
   "execution_count": 10,
   "id": "b76df577",
   "metadata": {
    "execution": {
     "iopub.execute_input": "2022-12-30T21:13:26.461680Z",
     "iopub.status.busy": "2022-12-30T21:13:26.461096Z",
     "iopub.status.idle": "2022-12-30T21:13:26.465584Z",
     "shell.execute_reply": "2022-12-30T21:13:26.464809Z"
    },
    "papermill": {
     "duration": 0.01429,
     "end_time": "2022-12-30T21:13:26.467884",
     "exception": false,
     "start_time": "2022-12-30T21:13:26.453594",
     "status": "completed"
    },
    "tags": []
   },
   "outputs": [],
   "source": [
    "def load_array(data_arrays, batch_size, is_train=True):\n",
    "    dataset = data.TensorDataset(*data_arrays)\n",
    "    return data.DataLoader(dataset, batch_size, shuffle=is_train)"
   ]
  },
  {
   "cell_type": "code",
   "execution_count": 11,
   "id": "1dc49fd5",
   "metadata": {
    "execution": {
     "iopub.execute_input": "2022-12-30T21:13:26.483420Z",
     "iopub.status.busy": "2022-12-30T21:13:26.482383Z",
     "iopub.status.idle": "2022-12-30T21:13:26.490601Z",
     "shell.execute_reply": "2022-12-30T21:13:26.489681Z"
    },
    "papermill": {
     "duration": 0.018187,
     "end_time": "2022-12-30T21:13:26.492758",
     "exception": false,
     "start_time": "2022-12-30T21:13:26.474571",
     "status": "completed"
    },
    "tags": []
   },
   "outputs": [],
   "source": [
    "def train(net, train_features, train_labels, test_features, test_labels,\n",
    "          num_epochs, learning_rate, weight_decay, batch_size):\n",
    "    \n",
    "    train_ls, test_ls = [], []\n",
    "    \n",
    "    train_iter = load_array((train_features, train_labels), batch_size)\n",
    "    optimizer = torch.optim.Adam(net.parameters(),\n",
    "                                 lr = learning_rate,\n",
    "                                 weight_decay = weight_decay)\n",
    "    \n",
    "    for epoch in range(num_epochs):\n",
    "        for X, y in train_iter:\n",
    "            optimizer.zero_grad()\n",
    "            l = loss(net(X), y)\n",
    "            l.backward()\n",
    "            optimizer.step()\n",
    "            \n",
    "        train_l = log_rmse(net, train_features, train_labels)     #training loss after the current epoch\n",
    "        train_ls.append(train_l)\n",
    "        #print(f'Epoch: ', epoch, ' Training Loss: ', train_l)\n",
    "        if test_labels is not None:\n",
    "            test_l = log_rmse(net, test_features, test_labels)    #test loss after the current epoch\n",
    "            test_ls.append(test_l)\n",
    "            \n",
    "    return train_ls, test_ls"
   ]
  },
  {
   "cell_type": "markdown",
   "id": "3a6d2ba6",
   "metadata": {
    "papermill": {
     "duration": 0.006261,
     "end_time": "2022-12-30T21:13:26.505427",
     "exception": false,
     "start_time": "2022-12-30T21:13:26.499166",
     "status": "completed"
    },
    "tags": []
   },
   "source": [
    "## K-Fold Cross-Validation"
   ]
  },
  {
   "cell_type": "code",
   "execution_count": 12,
   "id": "e52ee20d",
   "metadata": {
    "execution": {
     "iopub.execute_input": "2022-12-30T21:13:26.520394Z",
     "iopub.status.busy": "2022-12-30T21:13:26.519730Z",
     "iopub.status.idle": "2022-12-30T21:13:26.526363Z",
     "shell.execute_reply": "2022-12-30T21:13:26.525686Z"
    },
    "papermill": {
     "duration": 0.016281,
     "end_time": "2022-12-30T21:13:26.528350",
     "exception": false,
     "start_time": "2022-12-30T21:13:26.512069",
     "status": "completed"
    },
    "tags": []
   },
   "outputs": [],
   "source": [
    "def get_k_fold_data(k, i, X, y):\n",
    "    assert k > 1\n",
    "    fold_size = X.shape[0] // k      #number of samples in each fold\n",
    "    X_train, y_train = None, None\n",
    "    for j in range(k):\n",
    "        idx = slice(j*fold_size, (j+1)*fold_size)\n",
    "        X_part, y_part = X[idx, :], y[idx]\n",
    "        if j == i:\n",
    "            X_valid, y_valid = X_part, y_part\n",
    "        elif X_train is None:\n",
    "            X_train, y_train = X_part, y_part\n",
    "        else:\n",
    "            X_train = torch.cat([X_train, X_part], 0)\n",
    "            y_train = torch.cat([y_train, y_part], 0)\n",
    "    return X_train, y_train, X_valid, y_valid"
   ]
  },
  {
   "cell_type": "code",
   "execution_count": 13,
   "id": "368a6ce6",
   "metadata": {
    "execution": {
     "iopub.execute_input": "2022-12-30T21:13:26.542775Z",
     "iopub.status.busy": "2022-12-30T21:13:26.542388Z",
     "iopub.status.idle": "2022-12-30T21:13:26.551021Z",
     "shell.execute_reply": "2022-12-30T21:13:26.549956Z"
    },
    "papermill": {
     "duration": 0.018399,
     "end_time": "2022-12-30T21:13:26.553161",
     "exception": false,
     "start_time": "2022-12-30T21:13:26.534762",
     "status": "completed"
    },
    "tags": []
   },
   "outputs": [],
   "source": [
    "def k_fold(k, X_train, y_train, num_epochs, learning_rate, weight_decay, batch_size):\n",
    "    train_l_sum, valid_l_sum = 0, 0\n",
    "    for i in range(k):\n",
    "        data = get_k_fold_data(k, i, X_train, y_train)\n",
    "        net = get_net()\n",
    "        train_ls, valid_ls = train(net, *data, num_epochs, learning_rate, weight_decay, batch_size)\n",
    "        train_l_sum += train_ls[-1]\n",
    "        valid_l_sum += valid_ls[-1]\n",
    "        if i == 0:\n",
    "            plt.plot(list(range(1, num_epochs + 1)), train_ls)\n",
    "            plt.plot(list(range(1, num_epochs + 1)), valid_ls)\n",
    "            plt.xlabel('epoch')\n",
    "            plt.ylabel('rmse')\n",
    "            plt.legend(['train', 'valid'])\n",
    "            plt.yscale('log')\n",
    "            plt.show()\n",
    "        print(f'Fold {i+1}，training loss {float(train_ls[-1]):f}, validation loss {float(valid_ls[-1]):f}')\n",
    "    return train_l_sum / k, valid_l_sum / k"
   ]
  },
  {
   "cell_type": "code",
   "execution_count": 14,
   "id": "e93941c2",
   "metadata": {
    "execution": {
     "iopub.execute_input": "2022-12-30T21:13:26.567314Z",
     "iopub.status.busy": "2022-12-30T21:13:26.566949Z",
     "iopub.status.idle": "2022-12-30T21:13:35.197381Z",
     "shell.execute_reply": "2022-12-30T21:13:35.196349Z"
    },
    "papermill": {
     "duration": 8.640294,
     "end_time": "2022-12-30T21:13:35.199862",
     "exception": false,
     "start_time": "2022-12-30T21:13:26.559568",
     "status": "completed"
    },
    "tags": []
   },
   "outputs": [
    {
     "data": {
      "image/png": "[encoded data removed]",
      "text/plain": [
       "<Figure size 432x288 with 1 Axes>"
      ]
     },
     "metadata": {
      "needs_background": "light"
     },
     "output_type": "display_data"
    },
    {
     "name": "stdout",
     "output_type": "stream",
     "text": [
      "Fold 1，training loss 0.170248, validation loss 0.156830\n",
      "Fold 2，training loss 0.162033, validation loss 0.189991\n",
      "Fold 3，training loss 0.164666, validation loss 0.169071\n",
      "Fold 4，training loss 0.168027, validation loss 0.154721\n",
      "Fold 5，training loss 0.163469, validation loss 0.183018\n",
      "5-Fold: average training loss0.165689, average validation loss: 0.170726\n"
     ]
    }
   ],
   "source": [
    "k, num_epochs, lr, weight_decay, batch_size = 5, 100, 5, 0, 64\n",
    "train_l, valid_l = k_fold(k, train_features, train_labels, num_epochs, lr, weight_decay, batch_size)\n",
    "print(f'{k}-Fold: average training loss{float(train_l):f}, '\n",
    "      f'average validation loss: {float(valid_l):f}')"
   ]
  },
  {
   "cell_type": "markdown",
   "id": "75102854",
   "metadata": {
    "papermill": {
     "duration": 0.00733,
     "end_time": "2022-12-30T21:13:35.216698",
     "exception": false,
     "start_time": "2022-12-30T21:13:35.209368",
     "status": "completed"
    },
    "tags": []
   },
   "source": [
    "## Make Predictions"
   ]
  },
  {
   "cell_type": "code",
   "execution_count": 15,
   "id": "400cac70",
   "metadata": {
    "execution": {
     "iopub.execute_input": "2022-12-30T21:13:35.232697Z",
     "iopub.status.busy": "2022-12-30T21:13:35.232271Z",
     "iopub.status.idle": "2022-12-30T21:13:35.240864Z",
     "shell.execute_reply": "2022-12-30T21:13:35.239617Z"
    },
    "papermill": {
     "duration": 0.019323,
     "end_time": "2022-12-30T21:13:35.243115",
     "exception": false,
     "start_time": "2022-12-30T21:13:35.223792",
     "status": "completed"
    },
    "tags": []
   },
   "outputs": [],
   "source": [
    "def train_and_pred(train_features, test_features, train_labels, test_data,\n",
    "                   num_epochs, lr, weight_decay, batch_size):\n",
    "    net = get_net()\n",
    "    train_ls, _ = train(net, train_features, train_labels, None, None,\n",
    "                        num_epochs, lr, weight_decay, batch_size)\n",
    "    plt.plot(list(range(1, num_epochs + 1)), train_ls)\n",
    "    plt.xlabel('epoch')\n",
    "    plt.ylabel('rmse')\n",
    "    plt.legend(['train', 'valid'])\n",
    "    plt.yscale('log')\n",
    "    plt.show()\n",
    "    print(f'Training loss：{float(train_ls[-1]):f}')\n",
    "    preds = net(test_features).detach().numpy()\n",
    "    test_data['SalePrice'] = pd.Series(preds.reshape(1, -1)[0])\n",
    "    submission = pd.concat([test_data['Id'], test_data['SalePrice']], axis=1)\n",
    "    submission.to_csv('submission.csv', index=False)"
   ]
  },
  {
   "cell_type": "code",
   "execution_count": 16,
   "id": "aacf18a4",
   "metadata": {
    "execution": {
     "iopub.execute_input": "2022-12-30T21:13:35.259369Z",
     "iopub.status.busy": "2022-12-30T21:13:35.258550Z",
     "iopub.status.idle": "2022-12-30T21:13:37.648171Z",
     "shell.execute_reply": "2022-12-30T21:13:37.646659Z"
    },
    "papermill": {
     "duration": 2.400644,
     "end_time": "2022-12-30T21:13:37.650764",
     "exception": false,
     "start_time": "2022-12-30T21:13:35.250120",
     "status": "completed"
    },
    "tags": []
   },
   "outputs": [
    {
     "data": {
      "image/png": "[encoded data removed]",
      "text/plain": [
       "<Figure size 432x288 with 1 Axes>"
      ]
     },
     "metadata": {
      "needs_background": "light"
     },
     "output_type": "display_data"
    },
    {
     "name": "stdout",
     "output_type": "stream",
     "text": [
      "Training loss：0.162149\n"
     ]
    }
   ],
   "source": [
    "train_and_pred(train_features, test_features, train_labels, test_data,\n",
    "               num_epochs, lr, weight_decay, batch_size)"
   ]
  }
 ],
 "metadata": {
  "kernelspec": {
   "display_name": "Python 3 (ipykernel)",
   "language": "python",
   "name": "python3"
  },
  "language_info": {
   "codemirror_mode": {
    "name": "ipython",
    "version": 3
   },
   "file_extension": ".py",
   "mimetype": "text/x-python",
   "name": "python",
   "nbconvert_exporter": "python",
   "pygments_lexer": "ipython3",
   "version": "3.9.13"
  },
  "papermill": {
   "default_parameters": {},
   "duration": 22.407872,
   "end_time": "2022-12-30T21:13:38.480695",
   "environment_variables": {},
   "exception": null,
   "input_path": "__notebook__.ipynb",
   "output_path": "__notebook__.ipynb",
   "parameters": {},
   "start_time": "2022-12-30T21:13:16.072823",
   "version": "2.3.4"
  }
 },
 "nbformat": 4,
 "nbformat_minor": 5
}
