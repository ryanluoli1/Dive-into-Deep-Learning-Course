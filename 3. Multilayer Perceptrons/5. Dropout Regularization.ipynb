{
 "cells": [
  {
   "cell_type": "markdown",
   "id": "5ebe661c",
   "metadata": {},
   "source": [
    "# 5. Dropout Regularization"
   ]
  },
  {
   "cell_type": "code",
   "execution_count": 3,
   "id": "801f991b",
   "metadata": {},
   "outputs": [],
   "source": [
    "import time\n",
    "import math\n",
    "import random\n",
    "\n",
    "import numpy as np\n",
    "import pandas as pd\n",
    "import matplotlib.pyplot as plt\n",
    "\n",
    "import torch\n",
    "import torchvision\n",
    "from torch import nn\n",
    "from torch.utils import data\n",
    "from torchvision import transforms"
   ]
  },
  {
   "cell_type": "markdown",
   "id": "da3fa940",
   "metadata": {},
   "source": [
    "## Dropout"
   ]
  },
  {
   "cell_type": "markdown",
   "id": "cc0d4230",
   "metadata": {},
   "source": [
    "A good model that **does not overfit** the training data should **not be sensitive** to tiny changes in the inputs. \n",
    "\n",
    "Therefore, we can add **random noise** to each layer of a neural network (in training) to overcome overfitting. This method is called **`dropout`** because it looks like it is **dropping out (set to zero) some neurons** of the current layer when adding noise.\n",
    "\n",
    "We need to add the noise with an **unbiased** manner, so that the **expected output** of each layer remains the same:\n",
    "\n",
    "$$\\epsilon \\sim \\mathcal{N}(0,\\sigma^2)$$\n",
    "\n",
    "The **activations** $h$ of each layer is replaced by the random variables $h'$:\n",
    "\n",
    "$$\n",
    "\\begin{aligned}\n",
    "h' =\n",
    "\\begin{cases}\n",
    "    0 & \\text{with probability of } p \\\\\n",
    "    \\frac{h}{1-p} & \\text{else}\n",
    "\\end{cases}\n",
    "\\end{aligned}\n",
    "$$\n",
    "\n",
    "where $p$ is the **probability** that a neuron is dropped. In this way, we have $E[h'] = h$.\n",
    "\n",
    "![](http://d2l.ai/_images/dropout2.svg)\n",
    "\n",
    "With dropout, the model can no longer **overly depending on** any single neuron.\n",
    "\n",
    "Dropout is sometimes used in **testing** to evaluate the **stability** of a neural network model. A model is said to be more stable if the predictions remains similar when covered by different dropouts."
   ]
  },
  {
   "cell_type": "markdown",
   "id": "73ba9ce9",
   "metadata": {},
   "source": [
    "## Implementing Dropout"
   ]
  },
  {
   "cell_type": "code",
   "execution_count": 4,
   "id": "cce734ba",
   "metadata": {},
   "outputs": [],
   "source": [
    "net = nn.Sequential(nn.Flatten(),\n",
    "                    nn.Linear(784,256),\n",
    "                    nn.ReLU(),\n",
    "                    nn.Dropout(0.2),\n",
    "                    nn.Linear(256,256),\n",
    "                    nn.ReLU(),\n",
    "                    nn.Dropout(0.5),\n",
    "                    nn.Linear(256,10))"
   ]
  },
  {
   "cell_type": "code",
   "execution_count": 5,
   "id": "ba06b68e",
   "metadata": {},
   "outputs": [],
   "source": [
    "def init_weights(m):\n",
    "    if type(m) == nn.Linear:\n",
    "        nn.init.normal_(m.weight, std=0.01)"
   ]
  },
  {
   "cell_type": "code",
   "execution_count": 6,
   "id": "964de614",
   "metadata": {},
   "outputs": [
    {
     "data": {
      "text/plain": [
       "Sequential(\n",
       "  (0): Flatten(start_dim=1, end_dim=-1)\n",
       "  (1): Linear(in_features=784, out_features=256, bias=True)\n",
       "  (2): ReLU()\n",
       "  (3): Dropout(p=0.2, inplace=False)\n",
       "  (4): Linear(in_features=256, out_features=256, bias=True)\n",
       "  (5): ReLU()\n",
       "  (6): Dropout(p=0.5, inplace=False)\n",
       "  (7): Linear(in_features=256, out_features=10, bias=True)\n",
       ")"
      ]
     },
     "execution_count": 6,
     "metadata": {},
     "output_type": "execute_result"
    }
   ],
   "source": [
    "net.apply(init_weights)"
   ]
  }
 ],
 "metadata": {
  "kernelspec": {
   "display_name": "Python 3 (ipykernel)",
   "language": "python",
   "name": "python3"
  },
  "language_info": {
   "codemirror_mode": {
    "name": "ipython",
    "version": 3
   },
   "file_extension": ".py",
   "mimetype": "text/x-python",
   "name": "python",
   "nbconvert_exporter": "python",
   "pygments_lexer": "ipython3",
   "version": "3.9.13"
  }
 },
 "nbformat": 4,
 "nbformat_minor": 5
}
