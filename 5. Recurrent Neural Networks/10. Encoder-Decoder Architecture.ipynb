{
 "cells": [
  {
   "cell_type": "markdown",
   "id": "0ba4d944",
   "metadata": {},
   "source": [
    "# 10. Encoder-Decoder Architecture"
   ]
  },
  {
   "cell_type": "code",
   "execution_count": 1,
   "id": "1e1fb1c0",
   "metadata": {},
   "outputs": [],
   "source": [
    "import torch \n",
    "import torch.nn as nn\n",
    "from torch.utils import data\n",
    "from torch.nn import functional as F\n",
    "\n",
    "import os\n",
    "import re\n",
    "import collections\n",
    "\n",
    "import math\n",
    "import numpy as np\n",
    "import pandas as pd\n",
    "\n",
    "import matplotlib.pyplot as plt\n",
    "\n",
    "from d2l import torch as d2l"
   ]
  },
  {
   "cell_type": "markdown",
   "id": "a3a3fa4c",
   "metadata": {},
   "source": [
    "## Encoder-Decoder"
   ]
  },
  {
   "cell_type": "markdown",
   "id": "2adbf135",
   "metadata": {},
   "source": [
    "To deal with inputs with **difference length**, we implement the following **encoder-decoder architecture** where the **encoder** takes a variable-length sequence as input and transform it into a **fix-shape encoded state**:\n",
    "\n",
    "![](http://d2l.ai/_images/encoder-decoder.svg)\n",
    "\n",
    "The **decoder** acts as a conditional language model that predicts the **subsequent token** in the target sequence by taking in the **encoded input** and the **leftwards context** of the target sequence."
   ]
  },
  {
   "cell_type": "markdown",
   "id": "be7b4c0f",
   "metadata": {},
   "source": [
    "## Encoder"
   ]
  },
  {
   "cell_type": "markdown",
   "id": "21d45bae",
   "metadata": {},
   "source": [
    "In the **encoder interface**, we specify that the encoder takes **variable-length sequences** as input X. \n",
    "\n",
    "The implementation will be provided by any model that **inherits** this base Encoder class."
   ]
  },
  {
   "cell_type": "code",
   "execution_count": 2,
   "id": "03b70c0b",
   "metadata": {},
   "outputs": [],
   "source": [
    "class Encoder(nn.Module):\n",
    "    \n",
    "    def __init__(self, **kwargs):\n",
    "        super(Encoder, self).__init__(**kwargs)\n",
    "        \n",
    "    def forward(self, X, *args):\n",
    "        raise NotImplemetedError"
   ]
  },
  {
   "cell_type": "markdown",
   "id": "86c3de83",
   "metadata": {},
   "source": [
    "## Decoder"
   ]
  },
  {
   "cell_type": "markdown",
   "id": "f0016fe8",
   "metadata": {},
   "source": [
    "In the following **decoder interface**, we add an additional **init_state** function to convert the **encoder output (enc_outputs)** into the encoded state. \n",
    "\n",
    "Note that this step may require **extra inputs**, such as the valid length of the input. To generate a **variable-length sequence** token by token, every time the decoder may map an input (e.g. the **generated token at the previous time step**) and the **encoded state** into an output token at the current time step."
   ]
  },
  {
   "cell_type": "code",
   "execution_count": null,
   "id": "15caff34",
   "metadata": {},
   "outputs": [],
   "source": [
    "class Decoder(nn.Module):\n",
    "    \n",
    "    def __init__(self, **kwargs):\n",
    "        super(Decoder, self).__init__(**kwargs)\n",
    "        \n",
    "    def init_state(self, enc_outputs, *args):\n",
    "        raise NotImplementedError\n",
    "        \n",
    "    def forward(self, X, state):\n",
    "        raise NotImplementedError"
   ]
  },
  {
   "cell_type": "markdown",
   "id": "32c2a839",
   "metadata": {},
   "source": [
    "## Combination"
   ]
  },
  {
   "cell_type": "code",
   "execution_count": null,
   "id": "c44c4d69",
   "metadata": {},
   "outputs": [],
   "source": [
    "class EncoderDecoder(nn.Module):\n",
    "    \n",
    "    def __init__(self, encoder, decoder, **kwargs):\n",
    "        super(EncoderDecoder, self).__init__(**kwargs)\n",
    "        self.encoder = encoder\n",
    "        self.decoder = decoder\n",
    "        \n",
    "    def forward(self, enc_X, dec_X, *args):\n",
    "        enc_outputs = self.encoder(enc_X, *args)\n",
    "        dec_state = self.decoder.init_state(enc_outputs, *args)\n",
    "        return self.decoder(dec_X, dec_state)"
   ]
  }
 ],
 "metadata": {
  "kernelspec": {
   "display_name": "Python 3 (ipykernel)",
   "language": "python",
   "name": "python3"
  },
  "language_info": {
   "codemirror_mode": {
    "name": "ipython",
    "version": 3
   },
   "file_extension": ".py",
   "mimetype": "text/x-python",
   "name": "python",
   "nbconvert_exporter": "python",
   "pygments_lexer": "ipython3",
   "version": "3.9.13"
  }
 },
 "nbformat": 4,
 "nbformat_minor": 5
}
