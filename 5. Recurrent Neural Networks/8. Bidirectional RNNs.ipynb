{
 "cells": [
  {
   "cell_type": "markdown",
   "id": "9c4ac7ac",
   "metadata": {},
   "source": [
    "# 8. Bidirectional RNNs"
   ]
  },
  {
   "cell_type": "code",
   "execution_count": 1,
   "id": "54907ce3",
   "metadata": {},
   "outputs": [],
   "source": [
    "import torch \n",
    "import torch.nn as nn\n",
    "from torch.utils import data\n",
    "from torch.nn import functional as F\n",
    "\n",
    "import re\n",
    "import collections\n",
    "\n",
    "import math\n",
    "import numpy as np\n",
    "import pandas as pd\n",
    "\n",
    "import matplotlib.pyplot as plt\n",
    "\n",
    "from d2l import torch as d2l"
   ]
  },
  {
   "cell_type": "markdown",
   "id": "4e510808",
   "metadata": {},
   "source": [
    "Previously, in sequence learning tasks, we aim to predict the **next token** given all **privious tokens** in a sequence.\n",
    "\n",
    "However, sometimes the **rightward context** matters as much as the **leftward context**, for example:\n",
    "\n",
    "- I am ___.\n",
    "- I am ___ hungry.\n",
    "- I am ___ hungry, and I can eat half a pig.\n",
    "\n",
    "The missing token depends largely on the context in **both directions**."
   ]
  },
  {
   "cell_type": "markdown",
   "id": "a30c95aa",
   "metadata": {},
   "source": [
    "## Dynamic Programming in HMM"
   ]
  },
  {
   "attachments": {
    "image.png": {
     "image/png": "[encoded data removed]"
    }
   },
   "cell_type": "markdown",
   "id": "312da2c6",
   "metadata": {},
   "source": [
    "Consider a **hidden Markov model** (HMM) where $x_t$ is given by $P(x_t \\mid h_t)$ and $h_{t+1}$ is given by $P(h_{t+1} \\mid h_{t})$:\n",
    "\n",
    "![image.png](attachment:image.png)\n",
    "\n",
    "Therefore, for a sequence with **$T$ observations**, we have the following **joint probability**:\n",
    "\n",
    "$$P(x_1, \\ldots, x_T, h_1, \\ldots, h_T) = \\prod_{t=1}^T P(h_t \\mid h_{t-1}) P(x_t \\mid h_t), \\text{ where } P(h_1 \\mid h_0) = P(h_1)$$\n",
    "\n",
    "Now, we would like to **compute $P(x_j \\mid x_{-j})$** where we observe all $x_{-j} = (x_1, \\ldots, x_{j-1}, x_{j+1}, \\ldots, x_{T})$. \n",
    "\n",
    "......mathematically heavy stuff....."
   ]
  },
  {
   "cell_type": "markdown",
   "id": "55ef654f",
   "metadata": {},
   "source": [
    "## Bidirectional Model"
   ]
  },
  {
   "cell_type": "markdown",
   "id": "535fd707",
   "metadata": {},
   "source": [
    "To take the rightward context into account, we can simply implement **2 unidirectional RNN layers** chained together in **opposite directions** and acting on the **same input**.\n",
    "\n",
    "Such design is the same as the **forward recursion** and **backward recursion** in a **hidden Markov model**.\n",
    "\n",
    "![](http://d2l.ai/_images/birnn.svg)\n",
    "\n",
    "For the first RNN layer, the **first input** is $x_1$ and the **last input** is $x_T$. For the second RNN layer, the **first input** is $x_T$ and the **last input** is $x_1$. \n",
    "\n",
    "To produce the **output** of this bidirectional RNN layer, we simply **concatenate** together the corresponding outputs of the two underlying unidirectional RNN layers."
   ]
  },
  {
   "cell_type": "markdown",
   "id": "64febbe6",
   "metadata": {},
   "source": [
    "## Definitions"
   ]
  },
  {
   "cell_type": "markdown",
   "id": "ef9787cb",
   "metadata": {},
   "source": [
    "For any time stepo $t$, given a **mini-batch input** $\\mathbf{X}_t \\in \\mathbb{R}^{n \\times d}$ and the **activation** $\\phi$ for the hidden layers, we have the **forward and backward hidden states** $\\overrightarrow{\\mathbf{H}}_t  \\in \\mathbb{R}^{n \\times h}$ and $\\overleftarrow{\\mathbf{H}}_t  \\in \\mathbb{R}^{n \\times h}$ are as following:\n",
    "\n",
    "$$\n",
    "\\begin{aligned}\n",
    "\\overrightarrow{\\mathbf{H}}_t &= \\phi(\\mathbf{X}_t \\mathbf{W}_{xh}^{(f)} + \\overrightarrow{\\mathbf{H}}_{t-1} \\mathbf{W}_{hh}^{(f)}  + \\mathbf{b}_h^{(f)})\\\\\n",
    "\\overleftarrow{\\mathbf{H}}_t &= \\phi(\\mathbf{X}_t \\mathbf{W}_{xh}^{(b)} + \\overleftarrow{\\mathbf{H}}_{t+1} \\mathbf{W}_{hh}^{(b)}  + \\mathbf{b}_h^{(b)})\n",
    "\\end{aligned}\n",
    "$$\n",
    "\n",
    "where $\\mathbf{W}_{xh}^{(f)} \\in \\mathbb{R}^{d \\times h}, \\mathbf{W}_{hh}^{(f)} \\in \\mathbb{R}^{h \\times h}, \\mathbf{W}_{xh}^{(b)} \\in \\mathbb{R}^{d \\times h}, \\mathbf{W}_{hh}^{(b)} \\in \\mathbb{R}^{h \\times h}$ are the **weights** and $\\mathbf{b}_h^{(f)} \\in \\mathbb{R}^{1 \\times h}, \\mathbf{b}_h^{(b)} \\in \\mathbb{R}^{1 \\times h}$ are the **bias**.\n",
    "\n",
    "Then, the **output** of this bidirectional layer $\\mathbf{O}_t \\in \\mathbb{R}^{n \\times q}$ is given as:\n",
    "\n",
    "$$\\mathbf{O}_t = \\mathbf{H}_t \\mathbf{W}_{hq} + \\mathbf{b}_q$$\n",
    "\n",
    "where the **hidden state** $\\mathbf{H}_t \\in \\mathbb{R}^{n \\times 2h}$ of the output layer is obtained by **concatenating** $\\overrightarrow{\\mathbf{H}}_t$ and $\\overleftarrow{\\mathbf{H}}_t$."
   ]
  },
  {
   "cell_type": "markdown",
   "id": "fba3be91",
   "metadata": {},
   "source": [
    "## Computational Cost"
   ]
  },
  {
   "cell_type": "markdown",
   "id": "db9e1e49",
   "metadata": {},
   "source": [
    "However, a **bidirectional model** uses both the leftward and rightward context in making predictions. Such strategy works in **training** but fails when applied to **test data** since we are not able to know the **future (rightward context)**.\n",
    "\n",
    "Moerover, bidirectional models are very **inefficient** in terms of computational speed. This is because that both **forward and backward recursion** must be carried out in **forward propagation**. Therefore, there exists a **very long chain** when computing the gradients using **backpropagtion**."
   ]
  },
  {
   "cell_type": "markdown",
   "id": "3161522d",
   "metadata": {},
   "source": [
    "## Implementation (Bad Example)"
   ]
  },
  {
   "cell_type": "markdown",
   "id": "38e3425a",
   "metadata": {},
   "source": [
    "A bidirectional model might achieve great perplexity scores in training but will perform badly in practice:"
   ]
  },
  {
   "cell_type": "code",
   "execution_count": null,
   "id": "81602fbb",
   "metadata": {},
   "outputs": [],
   "source": [
    "vocab_size, num_hiddens, num_layers = len(vocab), 256, 2\n",
    "num_inputs = vocab_size\n",
    "\n",
    "lstm_layer = nn.LSTM(num_inputs, num_hiddens, num_layers, bidirectional=True)\n",
    "\n",
    "model = d2l.RNNModel(lstm_layer, len(vocab))\n",
    "model = model.to(device)"
   ]
  }
 ],
 "metadata": {
  "kernelspec": {
   "display_name": "Python 3 (ipykernel)",
   "language": "python",
   "name": "python3"
  },
  "language_info": {
   "codemirror_mode": {
    "name": "ipython",
    "version": 3
   },
   "file_extension": ".py",
   "mimetype": "text/x-python",
   "name": "python",
   "nbconvert_exporter": "python",
   "pygments_lexer": "ipython3",
   "version": "3.9.13"
  }
 },
 "nbformat": 4,
 "nbformat_minor": 5
}
