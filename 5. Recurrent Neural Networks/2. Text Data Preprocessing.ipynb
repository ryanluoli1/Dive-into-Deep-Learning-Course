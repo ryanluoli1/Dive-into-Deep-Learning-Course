{
 "cells": [
  {
   "cell_type": "markdown",
   "id": "d565472f",
   "metadata": {},
   "source": [
    "# 2. Text Data Preprocessing"
   ]
  },
  {
   "cell_type": "code",
   "execution_count": 3,
   "id": "ad8eae5a",
   "metadata": {},
   "outputs": [],
   "source": [
    "import torch \n",
    "import torch.nn as nn\n",
    "from torch.utils import data\n",
    "\n",
    "import re\n",
    "import collections\n",
    "\n",
    "import numpy as np\n",
    "import pandas as pd\n",
    "\n",
    "import matplotlib.pyplot as plt"
   ]
  },
  {
   "cell_type": "code",
   "execution_count": 2,
   "id": "cdf09905",
   "metadata": {},
   "outputs": [],
   "source": [
    "from d2l import torch as d2l"
   ]
  },
  {
   "cell_type": "markdown",
   "id": "6ed3662d",
   "metadata": {},
   "source": [
    "Typical **preprocessing pipelines** of text data execute the following steps:\n",
    "\n",
    "1. Load text as strings into memory.\n",
    "2. Split the strings into tokens.\n",
    "3. Build a vocabulary dictionary to associate each word with a numerical index.\n",
    "4. Convert the text into sequences of numerical indices."
   ]
  },
  {
   "cell_type": "markdown",
   "id": "68d56955",
   "metadata": {},
   "source": [
    "## Load Data"
   ]
  },
  {
   "cell_type": "markdown",
   "id": "56afbea9",
   "metadata": {},
   "source": [
    "For simplicity, we ignore **punctuation** and **capitalization** when loading the raw text:"
   ]
  },
  {
   "cell_type": "code",
   "execution_count": 4,
   "id": "e6b56f0b",
   "metadata": {},
   "outputs": [
    {
     "name": "stdout",
     "output_type": "stream",
     "text": [
      "Downloading ../data/timemachine.txt from http://d2l-data.s3-accelerate.amazonaws.com/timemachine.txt...\n",
      "Total number of lines: 3221\n",
      "the time machine by h g wells\n",
      "twinkled and his usually pale face was flushed and animated the\n"
     ]
    }
   ],
   "source": [
    "d2l.DATA_HUB['time_machine'] = (d2l.DATA_URL + 'timemachine.txt', '090b5e7e70c295757f55df93cb0a180b9691891a')\n",
    "\n",
    "def read_time_machine(): \n",
    "    with open(d2l.download('time_machine'), 'r') as f:\n",
    "        lines = f.readlines()\n",
    "    return [re.sub('[^A-Za-z]+', ' ', line).strip().lower() for line in lines]\n",
    "\n",
    "lines = read_time_machine()\n",
    "print(f'Total number of lines: {len(lines)}')\n",
    "print(lines[0])\n",
    "print(lines[10])"
   ]
  },
  {
   "cell_type": "markdown",
   "id": "e915ef6b",
   "metadata": {},
   "source": [
    "## Tokenization"
   ]
  },
  {
   "cell_type": "markdown",
   "id": "e45d7910",
   "metadata": {},
   "source": [
    "The following **tokenizer** function takes **lines (a list)** of text as input (each line is a sequence of words) and **outputs** a list of **token lists**:"
   ]
  },
  {
   "cell_type": "code",
   "execution_count": 5,
   "id": "ebda29ae",
   "metadata": {},
   "outputs": [],
   "source": [
    "def tokenize(lines, token='word'):\n",
    "    if token=='word':\n",
    "        return [line.split() for line in lines]\n",
    "    elif token=='char':\n",
    "        return [list(line) for line in lines]\n",
    "    else:\n",
    "        print('Error: wrong type of tokens.')"
   ]
  },
  {
   "cell_type": "code",
   "execution_count": 7,
   "id": "c27bec6f",
   "metadata": {},
   "outputs": [
    {
     "data": {
      "text/plain": [
       "['the', 'time', 'machine', 'by', 'h', 'g', 'wells']"
      ]
     },
     "execution_count": 7,
     "metadata": {},
     "output_type": "execute_result"
    }
   ],
   "source": [
    "tokens = tokenize(lines)\n",
    "tokens[0]"
   ]
  },
  {
   "cell_type": "markdown",
   "id": "5eab1402",
   "metadata": {},
   "source": [
    "## Vocabulary"
   ]
  },
  {
   "cell_type": "markdown",
   "id": "a1b25fbe",
   "metadata": {},
   "source": [
    "Now we need to construct a **vocabulary** that maps the tokens into **numerical indices** starting from 0.\n",
    "\n",
    "First, we need to create a **corpus** that contains all the **unique tokens** in the text data. Then, we **rank** the tokens according to their **frequencies** of appearance and map them to numerical indices. Tokens with extremely low frequencies will be removed for simplicity.\n",
    "\n",
    "Tokens that are **new to the corpus** will be mapped to a special label **\\<unk\\>**."
   ]
  },
  {
   "cell_type": "code",
   "execution_count": 12,
   "id": "85eac2c9",
   "metadata": {},
   "outputs": [],
   "source": [
    "def count_corpus(tokens): \n",
    "    if len(tokens) == 0 or isinstance(tokens[0], list):\n",
    "        tokens = [token for line in tokens for token in line]\n",
    "    return collections.Counter(tokens)"
   ]
  },
  {
   "cell_type": "code",
   "execution_count": 14,
   "id": "c6cdbb88",
   "metadata": {},
   "outputs": [],
   "source": [
    "class Vocab:  \n",
    "    \n",
    "    def __init__(self, tokens=None, min_freq=0, reserved_tokens=None):\n",
    "        \n",
    "        if tokens is None:\n",
    "            tokens = []\n",
    "        if reserved_tokens is None:\n",
    "            reserved_tokens = []\n",
    "            \n",
    "        counter = count_corpus(tokens)\n",
    "        self._token_freqs = sorted(counter.items(), key=lambda x: x[1], reverse=True)\n",
    "        \n",
    "        self.idx_to_token = ['<unk>'] + reserved_tokens\n",
    "        self.token_to_idx = {token: idx for idx, token in enumerate(self.idx_to_token)}\n",
    "        \n",
    "        for token, freq in self._token_freqs:\n",
    "            if freq < min_freq:\n",
    "                break\n",
    "            if token not in self.token_to_idx:\n",
    "                self.idx_to_token.append(token)\n",
    "                self.token_to_idx[token] = len(self.idx_to_token) - 1\n",
    "\n",
    "    def __len__(self):\n",
    "        return len(self.idx_to_token)\n",
    "\n",
    "    def __getitem__(self, tokens):\n",
    "        if not isinstance(tokens, (list, tuple)):\n",
    "            return self.token_to_idx.get(tokens, self.unk)\n",
    "        return [self.__getitem__(token) for token in tokens]\n",
    "\n",
    "    def to_tokens(self, indices):\n",
    "        if not isinstance(indices, (list, tuple)):\n",
    "            return self.idx_to_token[indices]\n",
    "        return [self.idx_to_token[index] for index in indices]\n",
    "\n",
    "    @property\n",
    "    def unk(self): \n",
    "        return 0\n",
    "\n",
    "    @property\n",
    "    def token_freqs(self):\n",
    "        return self._token_freqs"
   ]
  },
  {
   "cell_type": "code",
   "execution_count": 16,
   "id": "a030dc8f",
   "metadata": {},
   "outputs": [
    {
     "data": {
      "text/plain": [
       "[('<unk>', 0),\n",
       " ('the', 1),\n",
       " ('i', 2),\n",
       " ('and', 3),\n",
       " ('of', 4),\n",
       " ('a', 5),\n",
       " ('to', 6),\n",
       " ('was', 7),\n",
       " ('in', 8),\n",
       " ('that', 9)]"
      ]
     },
     "execution_count": 16,
     "metadata": {},
     "output_type": "execute_result"
    }
   ],
   "source": [
    "vocab = Vocab(tokens)\n",
    "list(vocab.token_to_idx.items())[:10]"
   ]
  },
  {
   "cell_type": "code",
   "execution_count": 20,
   "id": "4754c912",
   "metadata": {},
   "outputs": [
    {
     "name": "stdout",
     "output_type": "stream",
     "text": [
      "Text: ['the', 'time', 'machine', 'by', 'h', 'g', 'wells']\n",
      "Indices: [1, 19, 50, 40, 2183, 2184, 400]\n"
     ]
    }
   ],
   "source": [
    "print('Text:', tokens[0])\n",
    "print('Indices:', vocab[tokens[0]])"
   ]
  },
  {
   "cell_type": "markdown",
   "id": "61c8ca57",
   "metadata": {},
   "source": [
    "## All in One Step"
   ]
  },
  {
   "cell_type": "code",
   "execution_count": 39,
   "id": "c38c99b4",
   "metadata": {},
   "outputs": [],
   "source": [
    "def load_corpus_time_machine(max_tokens=-1):  \n",
    "    lines = read_time_machine()\n",
    "    tokens = tokenize(lines, 'word')\n",
    "    vocab = Vocab(tokens)\n",
    "    corpus = [vocab[token] for line in tokens for token in line]\n",
    "    if max_tokens > 0:\n",
    "        corpus = corpus[:max_tokens]\n",
    "    return corpus, vocab"
   ]
  },
  {
   "cell_type": "code",
   "execution_count": 40,
   "id": "f9e19587",
   "metadata": {},
   "outputs": [
    {
     "data": {
      "text/plain": [
       "(32775, 4580)"
      ]
     },
     "execution_count": 40,
     "metadata": {},
     "output_type": "execute_result"
    }
   ],
   "source": [
    "corpus, vocab = load_corpus_time_machine()\n",
    "len(corpus), len(vocab)"
   ]
  }
 ],
 "metadata": {
  "kernelspec": {
   "display_name": "Python 3 (ipykernel)",
   "language": "python",
   "name": "python3"
  },
  "language_info": {
   "codemirror_mode": {
    "name": "ipython",
    "version": 3
   },
   "file_extension": ".py",
   "mimetype": "text/x-python",
   "name": "python",
   "nbconvert_exporter": "python",
   "pygments_lexer": "ipython3",
   "version": "3.9.13"
  }
 },
 "nbformat": 4,
 "nbformat_minor": 5
}
