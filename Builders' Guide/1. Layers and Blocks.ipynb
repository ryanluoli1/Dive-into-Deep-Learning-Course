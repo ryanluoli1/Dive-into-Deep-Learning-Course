{
 "cells": [
  {
   "cell_type": "markdown",
   "id": "c43f95dd",
   "metadata": {},
   "source": [
    "# 1. Layers and Blocks"
   ]
  },
  {
   "cell_type": "code",
   "execution_count": 2,
   "id": "bcd68d99",
   "metadata": {},
   "outputs": [],
   "source": [
    "import torch \n",
    "import torch.nn as nn\n",
    "from torch.nn import functional as F"
   ]
  },
  {
   "cell_type": "markdown",
   "id": "c14444a3",
   "metadata": {},
   "source": [
    "## Blocks"
   ]
  },
  {
   "cell_type": "markdown",
   "id": "b0222330",
   "metadata": {},
   "source": [
    "![](http://d2l.ai/_images/blocks.svg)"
   ]
  },
  {
   "cell_type": "code",
   "execution_count": 14,
   "id": "b4cb3bd0",
   "metadata": {},
   "outputs": [
    {
     "data": {
      "text/plain": [
       "tensor([[0.5939, 0.6175, 0.1714, 0.5397, 0.1526, 0.4353, 0.1990, 0.5693, 0.9766,\n",
       "         0.0524, 0.6760, 0.6836, 0.6711, 0.0801, 0.9362, 0.4423, 0.0635, 0.9489,\n",
       "         0.4270, 0.1375],\n",
       "        [0.9727, 0.6019, 0.7009, 0.0513, 0.4568, 0.0521, 0.7973, 0.3518, 0.9398,\n",
       "         0.8829, 0.0683, 0.3902, 0.7581, 0.8967, 0.6151, 0.3569, 0.1090, 0.6570,\n",
       "         0.5716, 0.2735]])"
      ]
     },
     "execution_count": 14,
     "metadata": {},
     "output_type": "execute_result"
    }
   ],
   "source": [
    "X = torch.rand(2, 20)\n",
    "X"
   ]
  },
  {
   "cell_type": "code",
   "execution_count": 15,
   "id": "2f12a149",
   "metadata": {},
   "outputs": [
    {
     "data": {
      "text/plain": [
       "tensor([[-0.1395, -0.0907, -0.0338,  0.1819,  0.0842,  0.1264,  0.2354, -0.0636,\n",
       "          0.1333,  0.1141],\n",
       "        [-0.0733, -0.0031, -0.0956,  0.0419,  0.0919, -0.1337,  0.0886, -0.1173,\n",
       "          0.1903,  0.1289]], grad_fn=<AddmmBackward0>)"
      ]
     },
     "execution_count": 15,
     "metadata": {},
     "output_type": "execute_result"
    }
   ],
   "source": [
    "net = nn.Sequential(nn.Linear(20, 256), nn.ReLU(), nn.Linear(256, 10))\n",
    "net(X)"
   ]
  },
  {
   "cell_type": "markdown",
   "id": "ab46631b",
   "metadata": {},
   "source": [
    "We can define an equivalent MLP class s a sub-class the inherents the nn.Module class:"
   ]
  },
  {
   "cell_type": "code",
   "execution_count": 16,
   "id": "e6a9abcb",
   "metadata": {},
   "outputs": [],
   "source": [
    "class MLP(nn.Module): \n",
    "    \n",
    "    def __init__(self):\n",
    "        super().__init__()       \n",
    "        self.hidden = nn.Linear(20, 256)\n",
    "        self.out = nn.Linear(256, 10)\n",
    "        \n",
    "    def forward(self, X):\n",
    "        return self.out(F.relu(self.hidden(X)))"
   ]
  },
  {
   "cell_type": "code",
   "execution_count": 17,
   "id": "60a66212",
   "metadata": {
    "scrolled": true
   },
   "outputs": [
    {
     "data": {
      "text/plain": [
       "tensor([[ 0.0509, -0.0054, -0.0512, -0.0098, -0.0104, -0.1588, -0.0423, -0.1558,\n",
       "          0.1375,  0.1957],\n",
       "        [ 0.0320, -0.0381,  0.0607, -0.0225, -0.0079, -0.0780, -0.0176, -0.2375,\n",
       "          0.0732,  0.1693]], grad_fn=<AddmmBackward0>)"
      ]
     },
     "execution_count": 17,
     "metadata": {},
     "output_type": "execute_result"
    }
   ],
   "source": [
    "net = MLP()\n",
    "net(X)"
   ]
  },
  {
   "cell_type": "markdown",
   "id": "9e0e6ee0",
   "metadata": {},
   "source": [
    "We can also define a sequential class:"
   ]
  },
  {
   "cell_type": "code",
   "execution_count": 18,
   "id": "cad08c8a",
   "metadata": {},
   "outputs": [],
   "source": [
    "class MySequential(nn.Module):\n",
    "    \n",
    "    def __init__(self, *args):\n",
    "        super().__init__()\n",
    "        for idx, module in enumerate(args):\n",
    "            self._modules[str(idx)] = module\n",
    "\n",
    "    def forward(self, X):\n",
    "        for block in self._modules.values():\n",
    "            X = block(X)\n",
    "        return X"
   ]
  },
  {
   "cell_type": "code",
   "execution_count": 19,
   "id": "32cbfd89",
   "metadata": {
    "scrolled": true
   },
   "outputs": [
    {
     "data": {
      "text/plain": [
       "tensor([[ 0.1916,  0.2378,  0.0630,  0.0474, -0.1220, -0.0640, -0.1546, -0.0257,\n",
       "          0.0176,  0.2582],\n",
       "        [ 0.1391,  0.2432,  0.0060,  0.1216, -0.0837,  0.0196, -0.0626,  0.0132,\n",
       "          0.0541,  0.2981]], grad_fn=<AddmmBackward0>)"
      ]
     },
     "execution_count": 19,
     "metadata": {},
     "output_type": "execute_result"
    }
   ],
   "source": [
    "net = MySequential(nn.Linear(20, 256), nn.ReLU(), nn.Linear(256, 10))\n",
    "net(X)"
   ]
  },
  {
   "cell_type": "markdown",
   "id": "048f4281",
   "metadata": {},
   "source": [
    "## Self-Define Layers"
   ]
  },
  {
   "cell_type": "markdown",
   "id": "5128bc18",
   "metadata": {},
   "source": [
    "We define a layer that inherent the nn.Module class and just change the forward method:"
   ]
  },
  {
   "cell_type": "code",
   "execution_count": 46,
   "id": "ec4d3bfd",
   "metadata": {},
   "outputs": [],
   "source": [
    "class CenteredLayer(nn.Module):\n",
    "    \n",
    "    def __init__(self):\n",
    "        super().__init__()\n",
    "\n",
    "    def forward(self, X):\n",
    "        return X - X.mean()"
   ]
  },
  {
   "cell_type": "code",
   "execution_count": 47,
   "id": "ba79feaf",
   "metadata": {},
   "outputs": [
    {
     "data": {
      "text/plain": [
       "tensor([-2., -1.,  0.,  1.,  2.])"
      ]
     },
     "execution_count": 47,
     "metadata": {},
     "output_type": "execute_result"
    }
   ],
   "source": [
    "layer = CenteredLayer()\n",
    "layer(torch.FloatTensor([1, 2, 3, 4, 5]))"
   ]
  },
  {
   "cell_type": "code",
   "execution_count": 48,
   "id": "cec7c28c",
   "metadata": {},
   "outputs": [
    {
     "data": {
      "text/plain": [
       "tensor(-1.8626e-09, grad_fn=<MeanBackward0>)"
      ]
     },
     "execution_count": 48,
     "metadata": {},
     "output_type": "execute_result"
    }
   ],
   "source": [
    "net = nn.Sequential(nn.Linear(8,128), \n",
    "                    CenteredLayer())\n",
    "net(torch.rand(4,8)).mean()"
   ]
  },
  {
   "cell_type": "markdown",
   "id": "aff0d659",
   "metadata": {},
   "source": [
    "We can also define layers with parameters:"
   ]
  },
  {
   "cell_type": "code",
   "execution_count": 49,
   "id": "7d50d3c1",
   "metadata": {},
   "outputs": [],
   "source": [
    "class MyLinear(nn.Module):\n",
    "    \n",
    "    def __init__(self, in_units, units):\n",
    "        super().__init__()\n",
    "        self.weight = nn.Parameter(torch.randn(in_units, units))\n",
    "        self.bias = nn.Parameter(torch.zeros(units,))\n",
    "        \n",
    "    def forward(self, X):\n",
    "        linear = torch.matmul(X, self.weight.data) + self.bias.data\n",
    "        return F.relu(linear)"
   ]
  },
  {
   "cell_type": "code",
   "execution_count": 50,
   "id": "ad9b5bf6",
   "metadata": {},
   "outputs": [
    {
     "data": {
      "text/plain": [
       "Parameter containing:\n",
       "tensor([[-0.2683,  0.3553,  1.1462],\n",
       "        [-0.7788,  0.1474,  0.1835],\n",
       "        [-0.8980,  0.5986,  0.5469],\n",
       "        [ 1.2813, -0.5565,  0.8941],\n",
       "        [-1.7249,  0.3526, -0.1716]], requires_grad=True)"
      ]
     },
     "execution_count": 50,
     "metadata": {},
     "output_type": "execute_result"
    }
   ],
   "source": [
    "linear = MyLinear(5,3)\n",
    "linear.weight"
   ]
  },
  {
   "cell_type": "code",
   "execution_count": 51,
   "id": "4b82393b",
   "metadata": {},
   "outputs": [
    {
     "data": {
      "text/plain": [
       "tensor([[0.0000, 0.5389, 1.8235],\n",
       "        [0.0000, 0.1976, 1.9796]])"
      ]
     },
     "execution_count": 51,
     "metadata": {},
     "output_type": "execute_result"
    }
   ],
   "source": [
    "linear(torch.rand(2, =5))"
   ]
  },
  {
   "cell_type": "code",
   "execution_count": 52,
   "id": "c8abc7ce",
   "metadata": {},
   "outputs": [
    {
     "data": {
      "text/plain": [
       "tensor([[1.9500],\n",
       "        [9.2871]])"
      ]
     },
     "execution_count": 52,
     "metadata": {},
     "output_type": "execute_result"
    }
   ],
   "source": [
    "net = nn.Sequential(MyLinear(64,8), \n",
    "                    CenteredLayer(),\n",
    "                    MyLinear(8,1))\n",
    "net(torch.rand(2,64))"
   ]
  }
 ],
 "metadata": {
  "kernelspec": {
   "display_name": "Python 3 (ipykernel)",
   "language": "python",
   "name": "python3"
  },
  "language_info": {
   "codemirror_mode": {
    "name": "ipython",
    "version": 3
   },
   "file_extension": ".py",
   "mimetype": "text/x-python",
   "name": "python",
   "nbconvert_exporter": "python",
   "pygments_lexer": "ipython3",
   "version": "3.9.13"
  }
 },
 "nbformat": 4,
 "nbformat_minor": 5
}
