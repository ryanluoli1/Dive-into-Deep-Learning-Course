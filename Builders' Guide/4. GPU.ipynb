{
 "cells": [
  {
   "cell_type": "markdown",
   "id": "140ec2db",
   "metadata": {},
   "source": [
    "# 4. GPU"
   ]
  },
  {
   "cell_type": "markdown",
   "id": "e3f9a26e",
   "metadata": {},
   "source": [
    "https://towardsdatascience.com/installing-pytorch-on-apple-m1-chip-with-gpu-acceleration-3351dc44d67c"
   ]
  },
  {
   "cell_type": "code",
   "execution_count": 1,
   "id": "b978de03",
   "metadata": {},
   "outputs": [],
   "source": [
    "import time as time\n",
    "\n",
    "import torch\n",
    "from torch import nn"
   ]
  },
  {
   "cell_type": "code",
   "execution_count": 2,
   "id": "28ae5e8d",
   "metadata": {},
   "outputs": [
    {
     "name": "stdout",
     "output_type": "stream",
     "text": [
      "True\n"
     ]
    }
   ],
   "source": [
    "#this ensures that the current MacOS version is at least 12.3+\n",
    "print(torch.backends.mps.is_available())"
   ]
  },
  {
   "cell_type": "code",
   "execution_count": 3,
   "id": "87988fd6",
   "metadata": {
    "scrolled": false
   },
   "outputs": [
    {
     "name": "stdout",
     "output_type": "stream",
     "text": [
      "True\n"
     ]
    }
   ],
   "source": [
    "#this ensures that the current current PyTorch installation was built with MPS activated\n",
    "print(torch.backends.mps.is_built())"
   ]
  },
  {
   "cell_type": "markdown",
   "id": "11e327fa",
   "metadata": {},
   "source": [
    "We first need to define the device we are using:"
   ]
  },
  {
   "cell_type": "code",
   "execution_count": 4,
   "id": "3da61c14",
   "metadata": {},
   "outputs": [],
   "source": [
    "device = torch.device(\"mps\")"
   ]
  },
  {
   "cell_type": "markdown",
   "id": "a8074fb5",
   "metadata": {},
   "source": [
    "Then, we try some calculations by storing the tensors on our GPU:"
   ]
  },
  {
   "cell_type": "code",
   "execution_count": 5,
   "id": "35e69d34",
   "metadata": {},
   "outputs": [
    {
     "ename": "NameError",
     "evalue": "name 'math' is not defined",
     "output_type": "error",
     "traceback": [
      "\u001b[0;31m---------------------------------------------------------------------------\u001b[0m",
      "\u001b[0;31mNameError\u001b[0m                                 Traceback (most recent call last)",
      "Cell \u001b[0;32mIn[5], line 4\u001b[0m\n\u001b[1;32m      1\u001b[0m dtype \u001b[38;5;241m=\u001b[39m torch\u001b[38;5;241m.\u001b[39mfloat\n\u001b[1;32m      3\u001b[0m \u001b[38;5;66;03m#generate random data\u001b[39;00m\n\u001b[0;32m----> 4\u001b[0m x \u001b[38;5;241m=\u001b[39m torch\u001b[38;5;241m.\u001b[39mlinspace(\u001b[38;5;241m-\u001b[39m\u001b[43mmath\u001b[49m\u001b[38;5;241m.\u001b[39mpi, math\u001b[38;5;241m.\u001b[39mpi, \u001b[38;5;241m2000\u001b[39m, device\u001b[38;5;241m=\u001b[39mdevice, dtype\u001b[38;5;241m=\u001b[39mdtype)\n\u001b[1;32m      5\u001b[0m y \u001b[38;5;241m=\u001b[39m torch\u001b[38;5;241m.\u001b[39msin(x)\n\u001b[1;32m      7\u001b[0m \u001b[38;5;66;03m#randomly initialize weights\u001b[39;00m\n",
      "\u001b[0;31mNameError\u001b[0m: name 'math' is not defined"
     ]
    }
   ],
   "source": [
    "dtype = torch.float\n",
    "\n",
    "#generate random data\n",
    "x = torch.linspace(-math.pi, math.pi, 2000, device=device, dtype=dtype)\n",
    "y = torch.sin(x)\n",
    "\n",
    "#randomly initialize weights\n",
    "a = torch.randn((), device=device, dtype=dtype)\n",
    "b = torch.randn((), device=device, dtype=dtype)\n",
    "c = torch.randn((), device=device, dtype=dtype)\n",
    "d = torch.randn((), device=device, dtype=dtype)"
   ]
  },
  {
   "cell_type": "code",
   "execution_count": 15,
   "id": "fb19905c",
   "metadata": {},
   "outputs": [
    {
     "name": "stdout",
     "output_type": "stream",
     "text": [
      "99 836.641845703125\n",
      "199 556.23291015625\n",
      "299 370.8101806640625\n",
      "399 248.19534301757812\n",
      "499 167.11306762695312\n",
      "599 113.49539184570312\n",
      "699 78.03921508789062\n",
      "799 54.59271240234375\n",
      "899 39.08808135986328\n",
      "999 28.835145950317383\n",
      "1099 22.054960250854492\n",
      "1199 17.571271896362305\n",
      "1299 14.606252670288086\n",
      "1399 12.645549774169922\n",
      "1499 11.348925590515137\n",
      "1599 10.491454124450684\n",
      "1699 9.924413681030273\n",
      "1799 9.549428939819336\n",
      "1899 9.30142593383789\n",
      "1999 9.137421607971191\n",
      "Result: y = -0.0008230566745623946 + 0.8393610119819641 x + 0.00014198923599906266 x^2 + -0.09085827320814133 x^3\n"
     ]
    }
   ],
   "source": [
    "learning_rate = 1e-6\n",
    "\n",
    "for t in range(2000):\n",
    "    #forward propagation\n",
    "    y_pred = a + b * x + c * x ** 2 + d * x ** 3\n",
    "    #compute loss\n",
    "    loss = (y_pred - y).pow(2).sum().item()\n",
    "    if t % 100 == 99:\n",
    "        print(t, loss)\n",
    "    \n",
    "    #compute gradients\n",
    "    grad_y_pred = 2.0 * (y_pred - y)\n",
    "    grad_a = grad_y_pred.sum()\n",
    "    grad_b = (grad_y_pred * x).sum()\n",
    "    grad_c = (grad_y_pred * x ** 2).sum()\n",
    "    grad_d = (grad_y_pred * x ** 3).sum()\n",
    "\n",
    "    #update weights\n",
    "    a -= learning_rate * grad_a\n",
    "    b -= learning_rate * grad_b\n",
    "    c -= learning_rate * grad_c\n",
    "    d -= learning_rate * grad_d\n",
    "\n",
    "print(f'Result: y = {a.item()} + {b.item()} x + {c.item()} x^2 + {d.item()} x^3')"
   ]
  },
  {
   "cell_type": "markdown",
   "id": "113e84bf",
   "metadata": {},
   "source": [
    "We can also store the parameters of a model on the GPU:"
   ]
  },
  {
   "cell_type": "code",
   "execution_count": 6,
   "id": "a7b85404",
   "metadata": {},
   "outputs": [
    {
     "name": "stderr",
     "output_type": "stream",
     "text": [
      "/Users/ryanl/opt/anaconda3/lib/python3.9/site-packages/torch/_tensor_str.py:115: UserWarning: The operator 'aten::nonzero' is not currently supported on the MPS backend and will fall back to run on the CPU. This may have performance implications. (Triggered internally at /Users/runner/work/pytorch/pytorch/pytorch/aten/src/ATen/mps/MPSFallback.mm:11.)\n",
      "  nonzero_finite_vals = torch.masked_select(\n"
     ]
    },
    {
     "data": {
      "text/plain": [
       "tensor([[-1.2767,  0.3843,  1.0527,  ...,  1.6313, -1.0999, -1.3992],\n",
       "        [ 0.2610,  0.6141, -1.0926,  ..., -0.5260, -0.1930,  0.5506],\n",
       "        [ 0.1557, -0.0732, -1.7974,  ...,  0.9506, -0.5124,  0.3485],\n",
       "        ...,\n",
       "        [ 1.0980,  0.4339, -0.0071,  ...,  0.1427,  1.0008,  0.8351],\n",
       "        [-0.3857, -1.2685,  0.5023,  ...,  0.2298,  1.7227,  1.6923],\n",
       "        [-0.4016,  0.7939,  0.0274,  ..., -0.1553,  0.2953,  0.1715]],\n",
       "       device='mps:0')"
      ]
     },
     "execution_count": 6,
     "metadata": {},
     "output_type": "execute_result"
    }
   ],
   "source": [
    "X = torch.randn(100000, 10000, device=device, dtype=dtype)\n",
    "X"
   ]
  },
  {
   "cell_type": "code",
   "execution_count": 7,
   "id": "bb0d3221",
   "metadata": {},
   "outputs": [],
   "source": [
    "net = nn.Sequential(nn.Linear(10000, 128),\n",
    "                    nn.ReLU(),\n",
    "                    nn.Linear(128, 32),\n",
    "                    nn.ReLU(),\n",
    "                    nn.Linear(32, 1),\n",
    "                    )\n",
    "net = net.to(device=device)"
   ]
  },
  {
   "cell_type": "code",
   "execution_count": 8,
   "id": "935bd35e",
   "metadata": {},
   "outputs": [
    {
     "data": {
      "text/plain": [
       "0.058466196060180664"
      ]
     },
     "execution_count": 8,
     "metadata": {},
     "output_type": "execute_result"
    }
   ],
   "source": [
    "s = time.time()\n",
    "net(X)\n",
    "e = time.time()\n",
    "e - s"
   ]
  },
  {
   "cell_type": "code",
   "execution_count": 9,
   "id": "5ce6a015",
   "metadata": {},
   "outputs": [
    {
     "data": {
      "text/plain": [
       "tensor([[-0.8059, -0.6013,  0.4279,  ...,  1.5531, -0.2329, -0.8950],\n",
       "        [-0.5878,  1.1377, -1.3780,  ...,  0.2720, -0.5065,  0.6078],\n",
       "        [ 0.8171, -0.0625,  0.5603,  ..., -0.9016, -0.8044,  1.8955],\n",
       "        ...,\n",
       "        [ 0.7844,  1.0518, -0.7314,  ..., -0.7668, -0.4212,  0.2655],\n",
       "        [ 0.6507, -0.9097,  1.7279,  ...,  0.4537, -0.4229,  0.9502],\n",
       "        [ 0.2542, -0.3979,  1.3094,  ..., -0.4925,  0.3084, -0.4811]])"
      ]
     },
     "execution_count": 9,
     "metadata": {},
     "output_type": "execute_result"
    }
   ],
   "source": [
    "X = torch.randn(100000, 10000)\n",
    "X"
   ]
  },
  {
   "cell_type": "code",
   "execution_count": 10,
   "id": "3be6a3d6",
   "metadata": {},
   "outputs": [],
   "source": [
    "net2 = nn.Sequential(nn.Linear(10000, 128),\n",
    "                    nn.ReLU(),\n",
    "                    nn.Linear(128, 32),\n",
    "                    nn.ReLU(),\n",
    "                    nn.Linear(32, 1),\n",
    "                    )"
   ]
  },
  {
   "cell_type": "code",
   "execution_count": 11,
   "id": "b0ce8d5a",
   "metadata": {},
   "outputs": [
    {
     "data": {
      "text/plain": [
       "0.8828158378601074"
      ]
     },
     "execution_count": 11,
     "metadata": {},
     "output_type": "execute_result"
    }
   ],
   "source": [
    "s = time.time()\n",
    "net2(X)\n",
    "e = time.time()\n",
    "e - s"
   ]
  }
 ],
 "metadata": {
  "kernelspec": {
   "display_name": "Python 3 (ipykernel)",
   "language": "python",
   "name": "python3"
  },
  "language_info": {
   "codemirror_mode": {
    "name": "ipython",
    "version": 3
   },
   "file_extension": ".py",
   "mimetype": "text/x-python",
   "name": "python",
   "nbconvert_exporter": "python",
   "pygments_lexer": "ipython3",
   "version": "3.9.13"
  }
 },
 "nbformat": 4,
 "nbformat_minor": 5
}
