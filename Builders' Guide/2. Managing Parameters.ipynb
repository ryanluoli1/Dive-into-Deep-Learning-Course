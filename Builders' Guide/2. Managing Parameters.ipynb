{
 "cells": [
  {
   "cell_type": "markdown",
   "id": "33f5c57a",
   "metadata": {},
   "source": [
    "# 2. Managing Parameters"
   ]
  },
  {
   "cell_type": "code",
   "execution_count": 1,
   "id": "8085acf5",
   "metadata": {},
   "outputs": [],
   "source": [
    "import torch\n",
    "from torch import nn"
   ]
  },
  {
   "cell_type": "code",
   "execution_count": 2,
   "id": "5f06c8d0",
   "metadata": {},
   "outputs": [
    {
     "data": {
      "text/plain": [
       "tensor([[0.5152, 0.1129, 0.3631, 0.8286],\n",
       "        [0.5405, 0.7418, 0.6749, 0.4462]])"
      ]
     },
     "execution_count": 2,
     "metadata": {},
     "output_type": "execute_result"
    }
   ],
   "source": [
    "X = torch.rand(size=(2, 4))\n",
    "X"
   ]
  },
  {
   "cell_type": "code",
   "execution_count": 3,
   "id": "be8a3615",
   "metadata": {
    "scrolled": true
   },
   "outputs": [
    {
     "data": {
      "text/plain": [
       "tensor([[-0.1304],\n",
       "        [-0.0874]], grad_fn=<AddmmBackward0>)"
      ]
     },
     "execution_count": 3,
     "metadata": {},
     "output_type": "execute_result"
    }
   ],
   "source": [
    "net = nn.Sequential(nn.Linear(4,8), nn.ReLU(), nn.Linear(8,1))\n",
    "net(X)"
   ]
  },
  {
   "cell_type": "markdown",
   "id": "5a9057ee",
   "metadata": {},
   "source": [
    "## Accessing Parameters"
   ]
  },
  {
   "cell_type": "code",
   "execution_count": 10,
   "id": "aaa68292",
   "metadata": {},
   "outputs": [
    {
     "name": "stdout",
     "output_type": "stream",
     "text": [
      "Linear(in_features=4, out_features=8, bias=True)\n",
      "OrderedDict([('weight', tensor([[ 0.0697, -0.2755,  0.1505, -0.3063],\n",
      "        [ 0.1801, -0.4924,  0.3837, -0.1068],\n",
      "        [ 0.4164,  0.1121,  0.2296,  0.0915],\n",
      "        [ 0.3140, -0.2842, -0.0678, -0.4969],\n",
      "        [ 0.4675,  0.1169, -0.0479, -0.1169],\n",
      "        [-0.3475,  0.0701, -0.2368, -0.1622],\n",
      "        [-0.1049, -0.2786, -0.4635,  0.3972],\n",
      "        [ 0.1103,  0.3707, -0.3777, -0.2407]])), ('bias', tensor([ 0.2606, -0.1939, -0.3765, -0.3199,  0.1526,  0.2969,  0.1175, -0.4235]))])\n",
      "\n",
      "ReLU()\n",
      "OrderedDict()\n",
      "\n",
      "Linear(in_features=8, out_features=1, bias=True)\n",
      "OrderedDict([('weight', tensor([[ 0.2223, -0.2449,  0.3347, -0.2847,  0.0135,  0.2245, -0.0192, -0.2596]])), ('bias', tensor([-0.1487]))])\n",
      "\n"
     ]
    }
   ],
   "source": [
    "for layer in net:\n",
    "    print(layer)\n",
    "    print(layer.state_dict())\n",
    "    print()"
   ]
  },
  {
   "cell_type": "markdown",
   "id": "c9714cf7",
   "metadata": {},
   "source": [
    "Instead of using a loop, we can also access all the parameters at once:"
   ]
  },
  {
   "cell_type": "code",
   "execution_count": 11,
   "id": "8bfbb875",
   "metadata": {},
   "outputs": [
    {
     "name": "stdout",
     "output_type": "stream",
     "text": [
      "('0.weight', torch.Size([8, 4])) ('0.bias', torch.Size([8])) ('2.weight', torch.Size([1, 8])) ('2.bias', torch.Size([1]))\n"
     ]
    }
   ],
   "source": [
    "print(*[(name, param.shape) for name, param in net.named_parameters()])"
   ]
  },
  {
   "cell_type": "code",
   "execution_count": 12,
   "id": "187ed549",
   "metadata": {},
   "outputs": [
    {
     "data": {
      "text/plain": [
       "tensor([-0.1487])"
      ]
     },
     "execution_count": 12,
     "metadata": {},
     "output_type": "execute_result"
    }
   ],
   "source": [
    "net.state_dict()['2.bias'].data"
   ]
  },
  {
   "cell_type": "markdown",
   "id": "a0a36e80",
   "metadata": {},
   "source": [
    "Now, let's try accessing the parameters of a nested network:"
   ]
  },
  {
   "cell_type": "code",
   "execution_count": 13,
   "id": "1ca4cfab",
   "metadata": {},
   "outputs": [
    {
     "data": {
      "text/plain": [
       "tensor([[0.3251],\n",
       "        [0.3251]], grad_fn=<AddmmBackward0>)"
      ]
     },
     "execution_count": 13,
     "metadata": {},
     "output_type": "execute_result"
    }
   ],
   "source": [
    "def block1():\n",
    "    return nn.Sequential(nn.Linear(4, 8), nn.ReLU(),\n",
    "                         nn.Linear(8, 4), nn.ReLU())\n",
    "\n",
    "def block2():\n",
    "    net = nn.Sequential()\n",
    "    for i in range(4):\n",
    "        net.add_module(f'block {i}', block1())\n",
    "    return net\n",
    "\n",
    "rgnet = nn.Sequential(block2(), nn.Linear(4, 1))\n",
    "rgnet(X)"
   ]
  },
  {
   "cell_type": "code",
   "execution_count": 14,
   "id": "cb5a5792",
   "metadata": {
    "scrolled": true
   },
   "outputs": [
    {
     "name": "stdout",
     "output_type": "stream",
     "text": [
      "Sequential(\n",
      "  (0): Sequential(\n",
      "    (block 0): Sequential(\n",
      "      (0): Linear(in_features=4, out_features=8, bias=True)\n",
      "      (1): ReLU()\n",
      "      (2): Linear(in_features=8, out_features=4, bias=True)\n",
      "      (3): ReLU()\n",
      "    )\n",
      "    (block 1): Sequential(\n",
      "      (0): Linear(in_features=4, out_features=8, bias=True)\n",
      "      (1): ReLU()\n",
      "      (2): Linear(in_features=8, out_features=4, bias=True)\n",
      "      (3): ReLU()\n",
      "    )\n",
      "    (block 2): Sequential(\n",
      "      (0): Linear(in_features=4, out_features=8, bias=True)\n",
      "      (1): ReLU()\n",
      "      (2): Linear(in_features=8, out_features=4, bias=True)\n",
      "      (3): ReLU()\n",
      "    )\n",
      "    (block 3): Sequential(\n",
      "      (0): Linear(in_features=4, out_features=8, bias=True)\n",
      "      (1): ReLU()\n",
      "      (2): Linear(in_features=8, out_features=4, bias=True)\n",
      "      (3): ReLU()\n",
      "    )\n",
      "  )\n",
      "  (1): Linear(in_features=4, out_features=1, bias=True)\n",
      ")\n"
     ]
    }
   ],
   "source": [
    "print(rgnet)"
   ]
  },
  {
   "cell_type": "code",
   "execution_count": 15,
   "id": "0ac5f35f",
   "metadata": {},
   "outputs": [
    {
     "data": {
      "text/plain": [
       "tensor([-0.0446, -0.2349,  0.2949,  0.4968, -0.2533,  0.0126,  0.3250,  0.2250])"
      ]
     },
     "execution_count": 15,
     "metadata": {},
     "output_type": "execute_result"
    }
   ],
   "source": [
    "rgnet[0][1][0].bias.data"
   ]
  },
  {
   "cell_type": "markdown",
   "id": "a633f442",
   "metadata": {},
   "source": [
    "## Initializing Parameters"
   ]
  },
  {
   "cell_type": "code",
   "execution_count": 16,
   "id": "9773626a",
   "metadata": {},
   "outputs": [],
   "source": [
    "net = nn.Sequential(nn.Linear(4,8), nn.ReLU(), nn.Linear(8,1))"
   ]
  },
  {
   "cell_type": "markdown",
   "id": "dee1716b",
   "metadata": {},
   "source": [
    "Normal distribution:"
   ]
  },
  {
   "cell_type": "code",
   "execution_count": 20,
   "id": "f1ef9f1e",
   "metadata": {},
   "outputs": [
    {
     "data": {
      "text/plain": [
       "(tensor([[ 0.0097, -0.0193, -0.0048,  0.0005],\n",
       "         [-0.0050, -0.0021,  0.0120, -0.0035],\n",
       "         [-0.0025, -0.0114, -0.0039, -0.0009],\n",
       "         [ 0.0005,  0.0249, -0.0045,  0.0051],\n",
       "         [-0.0066, -0.0049, -0.0096, -0.0142],\n",
       "         [ 0.0057,  0.0095,  0.0054,  0.0022],\n",
       "         [-0.0019,  0.0059,  0.0093,  0.0015],\n",
       "         [ 0.0132,  0.0021, -0.0022, -0.0070]]),\n",
       " tensor([0., 0., 0., 0., 0., 0., 0., 0.]))"
      ]
     },
     "execution_count": 20,
     "metadata": {},
     "output_type": "execute_result"
    }
   ],
   "source": [
    "def init_normal(m):\n",
    "    if type(m) == nn.Linear:\n",
    "        nn.init.normal_(m.weight, mean=0, std=0.01)\n",
    "        nn.init.zeros_(m.bias)\n",
    "        \n",
    "net.apply(init_normal)\n",
    "net[0].weight.data, net[0].bias.data"
   ]
  },
  {
   "cell_type": "markdown",
   "id": "4fcd1458",
   "metadata": {},
   "source": [
    "Constants:"
   ]
  },
  {
   "cell_type": "code",
   "execution_count": 22,
   "id": "11d04a2a",
   "metadata": {},
   "outputs": [
    {
     "data": {
      "text/plain": [
       "(tensor([[1., 1., 1., 1.],\n",
       "         [1., 1., 1., 1.],\n",
       "         [1., 1., 1., 1.],\n",
       "         [1., 1., 1., 1.],\n",
       "         [1., 1., 1., 1.],\n",
       "         [1., 1., 1., 1.],\n",
       "         [1., 1., 1., 1.],\n",
       "         [1., 1., 1., 1.]]),\n",
       " tensor([0., 0., 0., 0., 0., 0., 0., 0.]))"
      ]
     },
     "execution_count": 22,
     "metadata": {},
     "output_type": "execute_result"
    }
   ],
   "source": [
    "def init_constant(m):\n",
    "    if type(m) == nn.Linear:\n",
    "        nn.init.constant_(m.weight, 1)\n",
    "        nn.init.zeros_(m.bias)\n",
    "        \n",
    "net.apply(init_constant)\n",
    "net[0].weight.data, net[0].bias.data"
   ]
  },
  {
   "cell_type": "markdown",
   "id": "bbbc67e6",
   "metadata": {},
   "source": [
    "Xavier intialization:"
   ]
  },
  {
   "cell_type": "code",
   "execution_count": 27,
   "id": "e22fa999",
   "metadata": {},
   "outputs": [
    {
     "name": "stdout",
     "output_type": "stream",
     "text": [
      "tensor([[-0.6796, -0.0864,  0.3009, -0.1210],\n",
      "        [-0.6444,  0.1863, -0.1993, -0.2640],\n",
      "        [-0.1704,  0.0114, -0.2072, -0.0203],\n",
      "        [ 0.6200, -0.6317, -0.6331, -0.2132],\n",
      "        [ 0.4434,  0.6231,  0.6195, -0.5510],\n",
      "        [-0.4974,  0.0163, -0.0509,  0.0091],\n",
      "        [ 0.5849, -0.1637,  0.5056,  0.4081],\n",
      "        [ 0.1190, -0.1575,  0.0644, -0.1436]])\n",
      "tensor([[42., 42., 42., 42., 42., 42., 42., 42.]])\n"
     ]
    }
   ],
   "source": [
    "def init_xavier(m):\n",
    "    if type(m) == nn.Linear:\n",
    "        nn.init.xavier_uniform_(m.weight)\n",
    "        \n",
    "def init_42(m):\n",
    "    if type(m) == nn.Linear:\n",
    "        nn.init.constant_(m.weight, 42)\n",
    "\n",
    "net[0].apply(init_xavier)\n",
    "net[2].apply(init_42)\n",
    "\n",
    "print(net[0].weight.data)\n",
    "print(net[2].weight.data)"
   ]
  },
  {
   "cell_type": "markdown",
   "id": "be070efb",
   "metadata": {},
   "source": [
    "We can also define our own initialization:\n",
    "\n",
    "$$\n",
    "\\begin{aligned}\n",
    "    w \\sim \\begin{cases}\n",
    "        U(5, 10) & \\text{ P = } \\frac{1}{4} \\\\\n",
    "            0    & \\text{ P = } \\frac{1}{2} \\\\\n",
    "        U(-10, -5) & \\text{ P = } \\frac{1}{4}\n",
    "    \\end{cases}\n",
    "\\end{aligned}\n",
    "$$"
   ]
  },
  {
   "cell_type": "code",
   "execution_count": 31,
   "id": "882537f6",
   "metadata": {},
   "outputs": [
    {
     "name": "stdout",
     "output_type": "stream",
     "text": [
      "Initialize weight torch.Size([8, 4])\n",
      "Initialize weight torch.Size([1, 8])\n"
     ]
    },
    {
     "data": {
      "text/plain": [
       "tensor([[ 6.8033, -9.0807, -8.0569, -0.0000],\n",
       "        [-0.0000, -6.7799,  0.0000,  8.3636],\n",
       "        [-0.0000, -8.7956,  0.0000,  7.7205],\n",
       "        [ 0.0000, -0.0000,  0.0000,  5.9029],\n",
       "        [-0.0000,  0.0000, -5.8448, -9.8805],\n",
       "        [-0.0000,  7.1922,  6.3481, -5.5951],\n",
       "        [-5.4699,  0.0000, -0.0000,  9.9472],\n",
       "        [ 0.0000,  6.2657, -8.1505, -0.0000]])"
      ]
     },
     "execution_count": 31,
     "metadata": {},
     "output_type": "execute_result"
    }
   ],
   "source": [
    "def my_init(m):\n",
    "    if type(m) == nn.Linear:\n",
    "        print(\"Initialize\", *[(name, param.shape) for name, param in m.named_parameters()][0])\n",
    "        nn.init.uniform_(m.weight, -10, 10)\n",
    "        m.weight.data *= m.weight.data.abs() >= 5\n",
    "\n",
    "net.apply(my_init)\n",
    "net[0].weight.data"
   ]
  },
  {
   "cell_type": "markdown",
   "id": "8b6ddc51",
   "metadata": {},
   "source": [
    "## Sharing Parameters"
   ]
  },
  {
   "cell_type": "markdown",
   "id": "c1f54a30",
   "metadata": {},
   "source": [
    "When we have a shared layer, changing the parameters of one will affect all the others. Therefore, in back propagation the gradients of shared layers will cumulate."
   ]
  },
  {
   "cell_type": "code",
   "execution_count": 32,
   "id": "b21b2d2c",
   "metadata": {},
   "outputs": [
    {
     "name": "stdout",
     "output_type": "stream",
     "text": [
      "tensor([True, True, True, True, True, True, True, True])\n",
      "tensor([True, True, True, True, True, True, True, True])\n"
     ]
    }
   ],
   "source": [
    "shared = nn.Linear(8, 8)\n",
    "net = nn.Sequential(nn.Linear(4, 8), nn.ReLU(),\n",
    "                    shared, nn.ReLU(),\n",
    "                    shared, nn.ReLU(),\n",
    "                    nn.Linear(8, 1))\n",
    "\n",
    "net(X)\n",
    "\n",
    "print(net[2].weight.data[0] == net[4].weight.data[0])\n",
    "net[2].weight.data[0, 0] = 100\n",
    "# 确保它们实际上是同一个对象，而不只是有相同的值\n",
    "print(net[2].weight.data[0] == net[4].weight.data[0])"
   ]
  },
  {
   "cell_type": "markdown",
   "id": "0c53fca6",
   "metadata": {},
   "source": [
    "## Defer Initialization"
   ]
  },
  {
   "cell_type": "code",
   "execution_count": 35,
   "id": "639086aa",
   "metadata": {},
   "outputs": [
    {
     "data": {
      "text/plain": [
       "tensor([[0.6509, 0.2064, 0.7259, 0.4883, 0.2528, 0.9221, 0.4371, 0.0616, 0.1436,\n",
       "         0.6144, 0.0145, 0.4388, 0.3766, 0.2007, 0.8130, 0.7557, 0.7991, 0.9632,\n",
       "         0.0036, 0.5691],\n",
       "        [0.3701, 0.0513, 0.2500, 0.5587, 0.4795, 0.5197, 0.3813, 0.0145, 0.8755,\n",
       "         0.1526, 0.7328, 0.1390, 0.4890, 0.4681, 0.6764, 0.2618, 0.3439, 0.3748,\n",
       "         0.3599, 0.5357]])"
      ]
     },
     "execution_count": 35,
     "metadata": {},
     "output_type": "execute_result"
    }
   ],
   "source": [
    "X = torch.rand(2, 20)\n",
    "X"
   ]
  },
  {
   "cell_type": "code",
   "execution_count": 36,
   "id": "4688a4c1",
   "metadata": {},
   "outputs": [
    {
     "name": "stdout",
     "output_type": "stream",
     "text": [
      "Sequential(\n",
      "  (0): LazyLinear(in_features=0, out_features=256, bias=True)\n",
      "  (1): ReLU()\n",
      "  (2): LazyLinear(in_features=0, out_features=10, bias=True)\n",
      ")\n",
      "Sequential(\n",
      "  (0): Linear(in_features=20, out_features=256, bias=True)\n",
      "  (1): ReLU()\n",
      "  (2): Linear(in_features=256, out_features=10, bias=True)\n",
      ")\n"
     ]
    }
   ],
   "source": [
    "net = nn.Sequential(nn.LazyLinear(256), \n",
    "                    nn.ReLU(), \n",
    "                    nn.LazyLinear(10))\n",
    "\n",
    "print(net)\n",
    "\n",
    "net(X)\n",
    "print(net)"
   ]
  }
 ],
 "metadata": {
  "kernelspec": {
   "display_name": "Python 3 (ipykernel)",
   "language": "python",
   "name": "python3"
  },
  "language_info": {
   "codemirror_mode": {
    "name": "ipython",
    "version": 3
   },
   "file_extension": ".py",
   "mimetype": "text/x-python",
   "name": "python",
   "nbconvert_exporter": "python",
   "pygments_lexer": "ipython3",
   "version": "3.9.13"
  }
 },
 "nbformat": 4,
 "nbformat_minor": 5
}
