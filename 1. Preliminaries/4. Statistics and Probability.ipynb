{
 "cells": [
  {
   "cell_type": "markdown",
   "metadata": {},
   "source": [
    "# 4. Statistics and Probability"
   ]
  },
  {
   "cell_type": "code",
   "execution_count": 1,
   "metadata": {},
   "outputs": [],
   "source": [
    "import numpy as np\n",
    "import pandas as pd\n",
    "\n",
    "import torch\n",
    "from torch.distributions import multinomial"
   ]
  },
  {
   "cell_type": "markdown",
   "metadata": {},
   "source": [
    "## Multinomial Distribution Sampling"
   ]
  },
  {
   "cell_type": "markdown",
   "metadata": {},
   "source": [
    "For example, we are simulating a roll of a fair dice, we can do the following:"
   ]
  },
  {
   "cell_type": "code",
   "execution_count": 11,
   "metadata": {},
   "outputs": [
    {
     "data": {
      "text/plain": [
       "tensor([0., 0., 0., 0., 1., 0.])"
      ]
     },
     "execution_count": 11,
     "metadata": {},
     "output_type": "execute_result"
    }
   ],
   "source": [
    "fair_p = torch.ones(6) / 6\n",
    "multinomial.Multinomial(1, fair_p).sample()"
   ]
  },
  {
   "cell_type": "markdown",
   "metadata": {},
   "source": [
    "Now, we want to simulate 10 rolls, instead of a for loop, we can do the following:"
   ]
  },
  {
   "cell_type": "code",
   "execution_count": 12,
   "metadata": {},
   "outputs": [
    {
     "data": {
      "text/plain": [
       "tensor([3., 1., 1., 2., 1., 2.])"
      ]
     },
     "execution_count": 12,
     "metadata": {},
     "output_type": "execute_result"
    }
   ],
   "source": [
    "multinomial.Multinomial(10, fair_p).sample()"
   ]
  },
  {
   "cell_type": "markdown",
   "metadata": {},
   "source": [
    "The above sampling results tells you that: in 10 rolls, we got the number 1 three times, the number 4 and 6 two times, and all the other numbers a single time.\n",
    "\n",
    "We can also do 500 repeated experiments and in each experiment we roll the dice 10 times:"
   ]
  },
  {
   "cell_type": "code",
   "execution_count": 21,
   "metadata": {},
   "outputs": [
    {
     "data": {
      "text/plain": [
       "tensor([[2., 2., 0., 2., 2., 2.],\n",
       "        [2., 1., 0., 4., 0., 3.],\n",
       "        [0., 2., 4., 2., 0., 2.],\n",
       "        ...,\n",
       "        [2., 1., 3., 2., 2., 0.],\n",
       "        [2., 1., 0., 1., 3., 3.],\n",
       "        [0., 3., 1., 4., 1., 1.]])"
      ]
     },
     "execution_count": 21,
     "metadata": {},
     "output_type": "execute_result"
    }
   ],
   "source": [
    "multinomial.Multinomial(10, fair_p).sample((500,))"
   ]
  },
  {
   "cell_type": "markdown",
   "metadata": {},
   "source": [
    "## Bayes Theorem"
   ]
  },
  {
   "cell_type": "markdown",
   "metadata": {},
   "source": [
    "$$P(A \\mid B) = \\frac{P(B \\mid A) P(A)}{P(B)}$$"
   ]
  },
  {
   "cell_type": "markdown",
   "metadata": {},
   "source": [
    "## Marginalization (Sum Rule)"
   ]
  },
  {
   "cell_type": "markdown",
   "metadata": {},
   "source": [
    "The probability of $B$ is the sum of the joint probabilities of $A$ and $B$ for all $A$s:\n",
    "\n",
    "\\begin{equation}\n",
    "\\begin{split}\n",
    "P(B) &= \\sum_{} P(A_i,B) \\\\\n",
    "&= P(A_1,B) + P(A_2,B) + ... + P(A_n,B) \\\\\n",
    "&= P(B \\mid A_1) P(A_1) + P(B \\mid A_2) P(A_2) + ... + P(B \\mid A_n) P(A_n)\n",
    "\\end{split}\n",
    "\\end{equation}\n",
    "\n",
    "where $P(A_1) + P(A_2) + ... + P(A_n) = 1$."
   ]
  },
  {
   "cell_type": "markdown",
   "metadata": {},
   "source": [
    "## Mean and Variance"
   ]
  },
  {
   "cell_type": "markdown",
   "metadata": {},
   "source": [
    "The mean (expectation) of a random variable $x$ is given as:\n",
    "\n",
    "$$E[X] = \\sum_{x} x P(X = x)$$\n",
    "\n",
    "If $x$ is drawn from the distribution P, the expectation of the function $f(x)$ is given as:\n",
    "\n",
    "$$E_{x \\sim P}[f(x)] = \\sum_x f(x) P(x)$$\n",
    "\n",
    "The varaince of a random variable $x$ is given as:\n",
    "\n",
    "$$\\mathrm{Var}[X] = E\\left[(X - E[X])^2\\right] = E[X^2] - E[X]^2$$\n",
    "\n",
    "Similarly, the variance for a function $f(x)$ is given as:\n",
    "\n",
    "$$\\mathrm{Var}[f(x)] = E\\left[\\left(f(x) - E[f(x)]\\right)^2\\right]$$"
   ]
  }
 ],
 "metadata": {
  "kernelspec": {
   "display_name": "Python 3",
   "language": "python",
   "name": "python3"
  },
  "language_info": {
   "codemirror_mode": {
    "name": "ipython",
    "version": 3
   },
   "file_extension": ".py",
   "mimetype": "text/x-python",
   "name": "python",
   "nbconvert_exporter": "python",
   "pygments_lexer": "ipython3",
   "version": "3.8.5"
  }
 },
 "nbformat": 4,
 "nbformat_minor": 4
}
