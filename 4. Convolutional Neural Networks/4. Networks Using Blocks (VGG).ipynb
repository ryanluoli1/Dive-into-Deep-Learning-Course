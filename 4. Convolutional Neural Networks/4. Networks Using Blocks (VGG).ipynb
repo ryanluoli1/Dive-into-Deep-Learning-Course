{
 "cells": [
  {
   "cell_type": "markdown",
   "id": "335a1811",
   "metadata": {},
   "source": [
    "# 4. Networks Using Blocks (VGG)"
   ]
  },
  {
   "cell_type": "code",
   "execution_count": 3,
   "id": "0e113797",
   "metadata": {},
   "outputs": [],
   "source": [
    "import numpy as np\n",
    "import pandas as pd\n",
    "\n",
    "import torch\n",
    "import torch.nn as nn"
   ]
  },
  {
   "cell_type": "markdown",
   "id": "3b576262",
   "metadata": {},
   "source": [
    "## Visual Geometry Group"
   ]
  },
  {
   "cell_type": "markdown",
   "id": "0f861499",
   "metadata": {},
   "source": [
    "The **basic building block** of CNNs is a sequence of the following: \n",
    "\n",
    "1. convolutional layers with padding (to maintain the resolution)\n",
    "2. non-linear activation functions\n",
    "3. pooling layers (for spatial downsampling)"
   ]
  },
  {
   "cell_type": "code",
   "execution_count": 4,
   "id": "11c4f6e0",
   "metadata": {},
   "outputs": [],
   "source": [
    "def vgg_block(num_convs, in_channels, out_channels):\n",
    "    layers = []\n",
    "    for _ in range(num_convs):\n",
    "        layers.append(nn.Conv2d(in_channels, out_channels, kernel_size=3, padding=1))\n",
    "        layers.append(nn.ReLU())\n",
    "        in_channels = out_channels\n",
    "    layers.append(nn.MaxPool2d(kernel_size=2,stride=2))\n",
    "    return nn.Sequential(*layers)"
   ]
  },
  {
   "cell_type": "markdown",
   "id": "8dcde460",
   "metadata": {},
   "source": [
    "## VGG Networks"
   ]
  },
  {
   "cell_type": "markdown",
   "id": "0a9e4762",
   "metadata": {},
   "source": [
    "The following compares a **VGG Network** with the AlexNet:\n",
    "\n",
    "![](http://d2l.ai/_images/vgg.svg)"
   ]
  },
  {
   "cell_type": "markdown",
   "id": "f0084462",
   "metadata": {},
   "source": [
    "The **original VGG** consists of **5 VGG blocks**:\n",
    "\n",
    "1. block 1 and 2: each contains 1 convolutional layer\n",
    "2. block 3, 4, and 5: each contains 2 convolution layers\n",
    "\n",
    "Since this VGG has 8 convolutional layers and 3 fully connected layers, it is often called VGG-11.\n",
    "\n",
    "We use a **hyperparameter** conv_arch to define the number of convolutional layers and output channels in each VGG block:"
   ]
  },
  {
   "cell_type": "code",
   "execution_count": 5,
   "id": "823dc740",
   "metadata": {},
   "outputs": [],
   "source": [
    "#(number of convolutional layers, number of output channels)\n",
    "conv_arch = ((1, 64), (1, 128), (2, 256), (2, 512), (2, 512))"
   ]
  },
  {
   "cell_type": "code",
   "execution_count": 6,
   "id": "ca78bd51",
   "metadata": {},
   "outputs": [],
   "source": [
    "def vgg(conv_arch):\n",
    "    \n",
    "    in_channels = 1\n",
    "\n",
    "    conv_blks = []\n",
    "    for (num_convs, out_channels) in conv_arch:\n",
    "        conv_blks.append(vgg_block(num_convs, in_channels, out_channels))\n",
    "        in_channels = out_channels\n",
    "\n",
    "    return nn.Sequential(*conv_blks, \n",
    "                         nn.Flatten(),\n",
    "                         nn.Linear(in_features=out_channels*7*7, out_features=4096), nn.ReLU(), \n",
    "                         nn.Dropout(0.5),\n",
    "                         nn.Linear(in_features=4096, out_features=4096), nn.ReLU(), \n",
    "                         nn.Dropout(0.5),\n",
    "                         nn.Linear(in_features=4096, out_features=10))"
   ]
  },
  {
   "cell_type": "code",
   "execution_count": 7,
   "id": "0a4b99c3",
   "metadata": {},
   "outputs": [],
   "source": [
    "net = vgg(conv_arch)"
   ]
  },
  {
   "cell_type": "code",
   "execution_count": 8,
   "id": "44a0a39b",
   "metadata": {},
   "outputs": [
    {
     "name": "stdout",
     "output_type": "stream",
     "text": [
      "Sequential output shape:\t torch.Size([1, 64, 112, 112])\n",
      "Sequential output shape:\t torch.Size([1, 128, 56, 56])\n",
      "Sequential output shape:\t torch.Size([1, 256, 28, 28])\n",
      "Sequential output shape:\t torch.Size([1, 512, 14, 14])\n",
      "Sequential output shape:\t torch.Size([1, 512, 7, 7])\n",
      "Flatten output shape:\t torch.Size([1, 25088])\n",
      "Linear output shape:\t torch.Size([1, 4096])\n",
      "ReLU output shape:\t torch.Size([1, 4096])\n",
      "Dropout output shape:\t torch.Size([1, 4096])\n",
      "Linear output shape:\t torch.Size([1, 4096])\n",
      "ReLU output shape:\t torch.Size([1, 4096])\n",
      "Dropout output shape:\t torch.Size([1, 4096])\n",
      "Linear output shape:\t torch.Size([1, 10])\n"
     ]
    }
   ],
   "source": [
    "X = torch.randn(size=(1, 1, 224, 224))\n",
    "\n",
    "for blk in net:\n",
    "    X = blk(X)\n",
    "    print(blk.__class__.__name__,'output shape:\\t',X.shape)"
   ]
  }
 ],
 "metadata": {
  "kernelspec": {
   "display_name": "Python 3 (ipykernel)",
   "language": "python",
   "name": "python3"
  },
  "language_info": {
   "codemirror_mode": {
    "name": "ipython",
    "version": 3
   },
   "file_extension": ".py",
   "mimetype": "text/x-python",
   "name": "python",
   "nbconvert_exporter": "python",
   "pygments_lexer": "ipython3",
   "version": "3.9.13"
  }
 },
 "nbformat": 4,
 "nbformat_minor": 5
}
