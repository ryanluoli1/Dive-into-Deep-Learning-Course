{
 "cells": [
  {
   "cell_type": "markdown",
   "id": "bd3377c2",
   "metadata": {},
   "source": [
    "# 2. Convolutional Neural Networks (LeNet)"
   ]
  },
  {
   "cell_type": "code",
   "execution_count": 2,
   "id": "555bee2a",
   "metadata": {},
   "outputs": [],
   "source": [
    "import numpy as np\n",
    "import pandas as pd\n",
    "\n",
    "import torch\n",
    "import torch.nn as nn"
   ]
  },
  {
   "cell_type": "markdown",
   "id": "98d58c6e",
   "metadata": {},
   "source": [
    "## LeNet-5"
   ]
  },
  {
   "cell_type": "markdown",
   "id": "e289fedd",
   "metadata": {},
   "source": [
    "At a high level, **`LeNet`** (LeNet-5) consists of two parts: \n",
    "\n",
    "1. a **convolutional encoder** consisting of **two convolutional layers**\n",
    "\n",
    "2. a **dense block** consisting of **three fully connected layers**\n",
    "\n",
    "The architecture of a LeNet is as shown below:\n",
    "\n",
    "![](http://d2l.ai/_images/lenet.svg)\n",
    "\n",
    "The input is a **$28 \\times 28$ hand-written digit** and the output is a **probability** over 10 possible outcomes.\n",
    "\n",
    "The basic units in each **convolutional block** are:\n",
    "\n",
    "1. a convolutional layer (with a $5 \\times 5$ kernel)\n",
    "2. a sigmoid activation function \n",
    "3. a subsequent average pooling operation ($2 \\times 2$, stride $=2$)\n",
    "\n",
    "(Note: **ReLU** and **max-pooling** work better but were not yet been made at the time of LeNet)\n",
    "\n",
    "The convolutional layers map spatially arranged inputs to a number of **2-dimensional feature maps**, typically increasing the **number of channels**. Then, the pooling operations **reduces dimensionality** by a factor of $4$ via spatial downsampling.\n",
    "\n",
    "The ouput of the **convolutional block** is a **4-dimensional** tensor (batch size, channels, height, width). To pass this to the **dense block**, we need to **flatten** the tensor to **2-dimensional** (sample index in minibatch, flatten vector).\n",
    "\n",
    "There are **3 fully connected layers** in the dense block of LeNet, each with $120$, $84$ and $10$ outputs.\n",
    "\n",
    "A simplified representation of the LeNet:\n",
    "\n",
    "![](http://d2l.ai/_images/lenet-vert.svg)"
   ]
  },
  {
   "cell_type": "markdown",
   "id": "163dc8a1",
   "metadata": {},
   "source": [
    "## Implementing LeNet"
   ]
  },
  {
   "cell_type": "markdown",
   "id": "8857ae6d",
   "metadata": {},
   "source": [
    "In the following implementation, we removed the **gaussian activation** in the original LeNet-5 architecture:"
   ]
  },
  {
   "cell_type": "code",
   "execution_count": 3,
   "id": "34a41fa5",
   "metadata": {},
   "outputs": [],
   "source": [
    "net = nn.Sequential(nn.Conv2d(in_channels=1, out_channels=6, kernel_size=5, padding=2), nn.Sigmoid(),\n",
    "                    nn.AvgPool2d(kernel_size=2, stride=2),\n",
    "                    nn.Conv2d(in_channels=6, out_channels=16, kernel_size=5), nn.Sigmoid(),\n",
    "                    nn.AvgPool2d(kernel_size=2, stride=2),\n",
    "                    nn.Flatten(),\n",
    "                    nn.Linear(in_features=16*5*5, out_features=120), nn.Sigmoid(),\n",
    "                    nn.Linear(in_features=120, out_features=84), nn.Sigmoid(),\n",
    "                    nn.Linear(in_features=84, out_features=10)\n",
    "                   )"
   ]
  },
  {
   "cell_type": "code",
   "execution_count": 3,
   "id": "30ca5fce",
   "metadata": {},
   "outputs": [
    {
     "name": "stdout",
     "output_type": "stream",
     "text": [
      "Conv2d output shape: \t torch.Size([1, 6, 28, 28])\n",
      "Sigmoid output shape: \t torch.Size([1, 6, 28, 28])\n",
      "AvgPool2d output shape: \t torch.Size([1, 6, 14, 14])\n",
      "Conv2d output shape: \t torch.Size([1, 16, 10, 10])\n",
      "Sigmoid output shape: \t torch.Size([1, 16, 10, 10])\n",
      "AvgPool2d output shape: \t torch.Size([1, 16, 5, 5])\n",
      "Flatten output shape: \t torch.Size([1, 400])\n",
      "Linear output shape: \t torch.Size([1, 120])\n",
      "Sigmoid output shape: \t torch.Size([1, 120])\n",
      "Linear output shape: \t torch.Size([1, 84])\n",
      "Sigmoid output shape: \t torch.Size([1, 84])\n",
      "Linear output shape: \t torch.Size([1, 10])\n"
     ]
    }
   ],
   "source": [
    "X = torch.rand(size=(1, 1, 28, 28), dtype=torch.float32)\n",
    "\n",
    "for layer in net:\n",
    "    X = layer(X)\n",
    "    print(layer.__class__.__name__, 'output shape: \\t', X.shape)"
   ]
  }
 ],
 "metadata": {
  "kernelspec": {
   "display_name": "Python 3 (ipykernel)",
   "language": "python",
   "name": "python3"
  },
  "language_info": {
   "codemirror_mode": {
    "name": "ipython",
    "version": 3
   },
   "file_extension": ".py",
   "mimetype": "text/x-python",
   "name": "python",
   "nbconvert_exporter": "python",
   "pygments_lexer": "ipython3",
   "version": "3.9.13"
  }
 },
 "nbformat": 4,
 "nbformat_minor": 5
}
